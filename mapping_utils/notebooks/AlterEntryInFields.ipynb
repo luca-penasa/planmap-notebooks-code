{
 "cells": [
  {
   "cell_type": "code",
   "execution_count": 65,
   "metadata": {},
   "outputs": [
    {
     "name": "stdout",
     "output_type": "stream",
     "text": [
      "Populating the interactive namespace from numpy and matplotlib\n"
     ]
    },
    {
     "name": "stderr",
     "output_type": "stream",
     "text": [
      "/usr/lib/python3.7/site-packages/IPython/core/magics/pylab.py:160: UserWarning: pylab import has clobbered these variables: ['table']\n",
      "`%matplotlib` prevents importing * from pylab and numpy\n",
      "  \"\\n`%matplotlib` prevents importing * from pylab and numpy\"\n"
     ]
    }
   ],
   "source": [
    "%pylab inline\n",
    "import geopandas as gpd"
   ]
  },
  {
   "cell_type": "code",
   "execution_count": 90,
   "metadata": {},
   "outputs": [],
   "source": [
    "gpkg = \"/data/planmap/Planmap/DATA/moon/PM-MOO-MS-Apollo_01/vector/0_Apollo_Basin.gpkg\"\n",
    "layer = \"Apl_Strat_full\"\n",
    "\n",
    "column = \"Unit_Name\"\n",
    "\n",
    "in_entry = 'Early Imbrian low-relief rugged plains in SPA center (RENAME SHAPE!)'\n",
    "out_entry = 'Early Imbrian low-relief rugged plains in SPA center'"
   ]
  },
  {
   "cell_type": "code",
   "execution_count": 91,
   "metadata": {},
   "outputs": [],
   "source": [
    "table = gpd.GeoDataFrame.from_file(gpkg, layer=layer, driver=\"GPKG\")\n"
   ]
  },
  {
   "cell_type": "code",
   "execution_count": 92,
   "metadata": {},
   "outputs": [
    {
     "data": {
      "text/plain": [
       "array(['Collapsed crater floor features', 'Copernican craters',\n",
       "       'Dome features', 'Early Imbrian Orientale ejecta',\n",
       "       'Early Imbrian craters',\n",
       "       'Early Imbrian low-relief rugged plains in SPA center (RENAME SHAPE!)',\n",
       "       'Eratosthenian craters', 'Floor-fractured crater floor features',\n",
       "       'Imbrian light plains', 'Late Imbrian craters',\n",
       "       'Late Imbrian dark plains', 'Late Imbrian light plains',\n",
       "       'Nectarian and pre-Nectarian craters',\n",
       "       'pre-Nectarian Apollo rim massifs',\n",
       "       'pre-Nectarian SPA floor materials',\n",
       "       'pre-Nectarian SPA rim massifs', 'pre-Nectarian SPA rim materials',\n",
       "       'pre-Nectarian low-relief rugged plains in Apollo'], dtype=object)"
      ]
     },
     "execution_count": 92,
     "metadata": {},
     "output_type": "execute_result"
    }
   ],
   "source": [
    "np.unique(table[column])"
   ]
  },
  {
   "cell_type": "code",
   "execution_count": null,
   "metadata": {},
   "outputs": [],
   "source": []
  },
  {
   "cell_type": "code",
   "execution_count": null,
   "metadata": {},
   "outputs": [],
   "source": []
  },
  {
   "cell_type": "code",
   "execution_count": 97,
   "metadata": {},
   "outputs": [
    {
     "name": "stderr",
     "output_type": "stream",
     "text": [
      "/usr/lib/python3.7/site-packages/ipykernel_launcher.py:5: SettingWithCopyWarning: \n",
      "A value is trying to be set on a copy of a slice from a DataFrame\n",
      "\n",
      "See the caveats in the documentation: http://pandas.pydata.org/pandas-docs/stable/indexing.html#indexing-view-versus-copy\n",
      "  \"\"\"\n"
     ]
    }
   ],
   "source": [
    "# table[table[column] == in_entry][column] = out_entry\n",
    "# table[column] = table[column].str.replace(in_entry, out_entry);\n",
    "\n",
    "\n",
    "table[column][table[column] == in_entry] = out_entry"
   ]
  },
  {
   "cell_type": "code",
   "execution_count": 99,
   "metadata": {},
   "outputs": [
    {
     "data": {
      "text/plain": [
       "array(['Collapsed crater floor features', 'Copernican craters',\n",
       "       'Dome features', 'Early Imbrian Orientale ejecta',\n",
       "       'Early Imbrian craters',\n",
       "       'Early Imbrian low-relief rugged plains in SPA center',\n",
       "       'Eratosthenian craters', 'Floor-fractured crater floor features',\n",
       "       'Imbrian light plains', 'Late Imbrian craters',\n",
       "       'Late Imbrian dark plains', 'Late Imbrian light plains',\n",
       "       'Nectarian and pre-Nectarian craters',\n",
       "       'pre-Nectarian Apollo rim massifs',\n",
       "       'pre-Nectarian SPA floor materials',\n",
       "       'pre-Nectarian SPA rim massifs', 'pre-Nectarian SPA rim materials',\n",
       "       'pre-Nectarian low-relief rugged plains in Apollo'], dtype=object)"
      ]
     },
     "execution_count": 99,
     "metadata": {},
     "output_type": "execute_result"
    }
   ],
   "source": [
    "np.unique(table[column])"
   ]
  },
  {
   "cell_type": "code",
   "execution_count": null,
   "metadata": {},
   "outputs": [],
   "source": [
    "\n"
   ]
  },
  {
   "cell_type": "code",
   "execution_count": 101,
   "metadata": {},
   "outputs": [],
   "source": [
    "# testgpkg = \"/data/planmap/Planmap/DATA/moon/PM-MOO-MS-Apollo_01/vector/0_Apollo_Basin_test.gpkg\"\n",
    "table.to_file(gpkg, driver=\"GPKG\", layer=layer)"
   ]
  },
  {
   "cell_type": "code",
   "execution_count": null,
   "metadata": {},
   "outputs": [],
   "source": []
  },
  {
   "cell_type": "code",
   "execution_count": null,
   "metadata": {},
   "outputs": [],
   "source": []
  }
 ],
 "metadata": {
  "kernelspec": {
   "display_name": "Python 3",
   "language": "python",
   "name": "python3"
  },
  "language_info": {
   "codemirror_mode": {
    "name": "ipython",
    "version": 3
   },
   "file_extension": ".py",
   "mimetype": "text/x-python",
   "name": "python",
   "nbconvert_exporter": "python",
   "pygments_lexer": "ipython3",
   "version": "3.7.3"
  }
 },
 "nbformat": 4,
 "nbformat_minor": 2
}

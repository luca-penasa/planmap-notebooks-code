{
 "cells": [
  {
   "cell_type": "markdown",
   "metadata": {},
   "source": [
    "https://gis.stackexchange.com/questions/15135/using-field-to-rgb-mapping-for-symbology-in-qgis"
   ]
  },
  {
   "cell_type": "code",
   "execution_count": 75,
   "metadata": {},
   "outputs": [
    {
     "name": "stdout",
     "output_type": "stream",
     "text": [
      "Populating the interactive namespace from numpy and matplotlib\n"
     ]
    }
   ],
   "source": [
    "%pylab inline\n",
    "import logging as log\n",
    "import os\n",
    "import attr\n",
    "log.getLogger().setLevel(log.INFO)"
   ]
  },
  {
   "cell_type": "code",
   "execution_count": 76,
   "metadata": {},
   "outputs": [
    {
     "name": "stderr",
     "output_type": "stream",
     "text": [
      "INFO:root:working on project PM-MER-MS-H02_3cc_01, output will be in /data/valentina_package/\n"
     ]
    }
   ],
   "source": [
    "# infolder = \"/data/planmap/Planmap/DATA/mercury/PM-MER-MS-H05_3cc_01/\".strip()\n",
    "infolder = \"/run/media/luca/data/planmap/Planmap/DATA/mercury/PM-MER-MS-H02_3cc_01/\".strip()\n",
    "outfolder = \"/data/valentina_package/\"\n",
    "\n",
    "# projectname = PM-MER-MS-H05_3cc_01 # override here if needed\n",
    "projectname = os.path.basename(os.path.normpath(infolder))\n",
    "outfname = projectname +\".gpkg\"\n",
    "outfullpath = os.path.join(outfolder, outfname)\n",
    "\n",
    "log.info(f\"working on project {projectname}, output will be in {outfolder}\")\n",
    "\n",
    "    \n",
    "\n",
    "vectors_exts = [\"shp\"] # add more if needed\n"
   ]
  },
  {
   "cell_type": "code",
   "execution_count": 77,
   "metadata": {},
   "outputs": [],
   "source": [
    "import glob\n",
    "def find_types(extensions, folder):\n",
    "    found = []\n",
    "    for vtype in extensions:\n",
    "        found.extend(glob.glob(folder + f\"/**/*.{vtype}\", recursive = True))\n",
    "        \n",
    "    return found"
   ]
  },
  {
   "cell_type": "code",
   "execution_count": 78,
   "metadata": {},
   "outputs": [],
   "source": [
    "shapefiles = find_types(vectors_exts, infolder)\n",
    "\n",
    "\n",
    "import regex\n",
    "def remove_filter_matches(fnames, filters=[\".*5_classes.*\"]):\n",
    "    out = []\n",
    "    for fname in fnames:\n",
    "        for filter in filters:\n",
    "            if not regex.match(filter, fname):\n",
    "                out.append(fname)\n",
    "            else:\n",
    "                log.warning(f\"removed from list {fname} due to filter {filter}\")\n",
    "                \n",
    "    return out\n",
    "    \n",
    "shapefiles = remove_filter_matches(shapefiles)"
   ]
  },
  {
   "cell_type": "code",
   "execution_count": 79,
   "metadata": {},
   "outputs": [
    {
     "data": {
      "text/plain": [
       "['/run/media/luca/data/planmap/Planmap/DATA/mercury/PM-MER-MS-H02_3cc_01/vector/Mercury_H02_Galluzzi2016_JOM_shapefiles/Shapefiles/H02_Geologic_Contacts.shp',\n",
       " '/run/media/luca/data/planmap/Planmap/DATA/mercury/PM-MER-MS-H02_3cc_01/vector/Mercury_H02_Galluzzi2016_JOM_shapefiles/Shapefiles/H02_Surface_Features.shp',\n",
       " '/run/media/luca/data/planmap/Planmap/DATA/mercury/PM-MER-MS-H02_3cc_01/vector/Mercury_H02_Galluzzi2016_JOM_shapefiles/Shapefiles/H02_Linear_Features.shp',\n",
       " '/run/media/luca/data/planmap/Planmap/DATA/mercury/PM-MER-MS-H02_3cc_01/vector/Mercury_H02_Galluzzi2016_JOM_shapefiles/Shapefiles/H02_Geologic_Units.shp',\n",
       " '/run/media/luca/data/planmap/Planmap/DATA/mercury/PM-MER-MS-H02_3cc_01/vector/Mercury_H02_Galluzzi2016_JOM_shapefiles/Shapefiles/H02_Map_Boundary.shp']"
      ]
     },
     "execution_count": 79,
     "metadata": {},
     "output_type": "execute_result"
    }
   ],
   "source": [
    "shapefiles"
   ]
  },
  {
   "cell_type": "code",
   "execution_count": 80,
   "metadata": {},
   "outputs": [
    {
     "name": "stderr",
     "output_type": "stream",
     "text": [
      "INFO:root:found 5 vectors\n",
      "INFO:root:--> /run/media/luca/data/planmap/Planmap/DATA/mercury/PM-MER-MS-H02_3cc_01/vector/Mercury_H02_Galluzzi2016_JOM_shapefiles/Shapefiles/H02_Geologic_Contacts.shp\n",
      "INFO:root:--> /run/media/luca/data/planmap/Planmap/DATA/mercury/PM-MER-MS-H02_3cc_01/vector/Mercury_H02_Galluzzi2016_JOM_shapefiles/Shapefiles/H02_Surface_Features.shp\n",
      "INFO:root:--> /run/media/luca/data/planmap/Planmap/DATA/mercury/PM-MER-MS-H02_3cc_01/vector/Mercury_H02_Galluzzi2016_JOM_shapefiles/Shapefiles/H02_Linear_Features.shp\n",
      "INFO:root:--> /run/media/luca/data/planmap/Planmap/DATA/mercury/PM-MER-MS-H02_3cc_01/vector/Mercury_H02_Galluzzi2016_JOM_shapefiles/Shapefiles/H02_Geologic_Units.shp\n",
      "INFO:root:--> /run/media/luca/data/planmap/Planmap/DATA/mercury/PM-MER-MS-H02_3cc_01/vector/Mercury_H02_Galluzzi2016_JOM_shapefiles/Shapefiles/H02_Map_Boundary.shp\n"
     ]
    }
   ],
   "source": [
    "log.info(f\"found {len(shapefiles)} vectors\")\n",
    "for v in shapefiles:\n",
    "    log.info(f\"--> {v}\")\n"
   ]
  },
  {
   "cell_type": "code",
   "execution_count": 81,
   "metadata": {},
   "outputs": [],
   "source": [
    "def get_required_output_dirs(outfolder):\n",
    "    outdirs = [outfolder]\n",
    "    if len(shapefiles) > 0:\n",
    "        outdirs.append(os.path.join(outfolder, \"vector\"))\n",
    "\n",
    "        \n",
    "    return outdirs\n",
    "        \n",
    "def create_paths(folders):\n",
    "    for f in folders:\n",
    "        os.makedirs(f, exist_ok=True)\n",
    "        "
   ]
  },
  {
   "cell_type": "code",
   "execution_count": 82,
   "metadata": {},
   "outputs": [],
   "source": [
    "flds = get_required_output_dirs(outfolder)\n",
    "create_paths(flds)"
   ]
  },
  {
   "cell_type": "code",
   "execution_count": 83,
   "metadata": {},
   "outputs": [
    {
     "name": "stderr",
     "output_type": "stream",
     "text": [
      "INFO:root:/data/valentina_package/vector/PM-MER-MS-H02_3cc_01.gpkg\n"
     ]
    }
   ],
   "source": [
    "# we now unify in a single geopackage all the data\n",
    "outgpkg = os.path.join(outfolder, \"vector\", outfname)\n",
    "log.info(outgpkg)"
   ]
  },
  {
   "cell_type": "code",
   "execution_count": 84,
   "metadata": {},
   "outputs": [],
   "source": [
    "def prepare_layer_name(fullname): # might want to personalize this\n",
    "    lname = os.path.basename(fullname)[:-4] # strip estension from basename\n",
    "    lname = lname[4:] # strip beginning\n",
    "    lname = lname.replace(\"_\", \" \")\n",
    "    lname = lname.title()\n",
    "#     lname = lname.replace(\" \", \"_\")\n",
    "    \n",
    "#     lname = ''.join(x for x in lname.title() if x != \"_\")\n",
    "    return lname"
   ]
  },
  {
   "cell_type": "code",
   "execution_count": 85,
   "metadata": {},
   "outputs": [
    {
     "name": "stderr",
     "output_type": "stream",
     "text": [
      "INFO:root:/run/media/luca/data/planmap/Planmap/DATA/mercury/PM-MER-MS-H02_3cc_01/vector/Mercury_H02_Galluzzi2016_JOM_shapefiles/Shapefiles/H02_Geologic_Contacts.shp,\n",
      "   --> layer_name : Geologic Contacts\n",
      "INFO:fiona.ogrext:Failed to auto identify EPSG: 7\n",
      "INFO:root:/run/media/luca/data/planmap/Planmap/DATA/mercury/PM-MER-MS-H02_3cc_01/vector/Mercury_H02_Galluzzi2016_JOM_shapefiles/Shapefiles/H02_Surface_Features.shp,\n",
      "   --> layer_name : Surface Features\n",
      "INFO:fiona.ogrext:Failed to auto identify EPSG: 7\n",
      "INFO:root:/run/media/luca/data/planmap/Planmap/DATA/mercury/PM-MER-MS-H02_3cc_01/vector/Mercury_H02_Galluzzi2016_JOM_shapefiles/Shapefiles/H02_Linear_Features.shp,\n",
      "   --> layer_name : Linear Features\n",
      "INFO:fiona.ogrext:Failed to auto identify EPSG: 7\n",
      "INFO:root:/run/media/luca/data/planmap/Planmap/DATA/mercury/PM-MER-MS-H02_3cc_01/vector/Mercury_H02_Galluzzi2016_JOM_shapefiles/Shapefiles/H02_Geologic_Units.shp,\n",
      "   --> layer_name : Geologic Units\n",
      "INFO:fiona.ogrext:Failed to auto identify EPSG: 7\n",
      "INFO:root:/run/media/luca/data/planmap/Planmap/DATA/mercury/PM-MER-MS-H02_3cc_01/vector/Mercury_H02_Galluzzi2016_JOM_shapefiles/Shapefiles/H02_Map_Boundary.shp,\n",
      "   --> layer_name : Map Boundary\n",
      "INFO:fiona.ogrext:Failed to auto identify EPSG: 7\n"
     ]
    }
   ],
   "source": [
    "import geopandas as gp\n",
    "# first we load the data\n",
    "\n",
    "tosave = {}\n",
    "for vector in shapefiles:\n",
    "    lname =prepare_layer_name(vector)\n",
    "    log.info(f\"{vector},\\n   --> layer_name : {lname}\")\n",
    "    table = gp.GeoDataFrame.from_file(vector)\n",
    "    tosave[lname] = table\n",
    "\n",
    "\n",
    "\n",
    "\n",
    "    "
   ]
  },
  {
   "cell_type": "code",
   "execution_count": null,
   "metadata": {},
   "outputs": [],
   "source": []
  },
  {
   "cell_type": "code",
   "execution_count": 86,
   "metadata": {},
   "outputs": [
    {
     "name": "stderr",
     "output_type": "stream",
     "text": [
      "INFO:root:['LineString', 'Polygon', 'LineString', 'Polygon', 'Polygon']\n"
     ]
    }
   ],
   "source": [
    "types = []\n",
    "\n",
    "for lanme, t in tosave.items():\n",
    "    types.append( t.geom_type[0] ) # we assume all features will be of similar type\n",
    "log.info(types)   \n",
    "\n"
   ]
  },
  {
   "cell_type": "code",
   "execution_count": 87,
   "metadata": {},
   "outputs": [
    {
     "data": {
      "text/plain": [
       "array([0, 2, 1, 3, 4])"
      ]
     },
     "execution_count": 87,
     "metadata": {},
     "output_type": "execute_result"
    }
   ],
   "source": [
    "sort_pref = {\"Point\": 0, \"MultiPoint\":0, \"LineString\":10, \"Polygon\": 20}\n",
    "scores = [sort_pref[key] for key in types]\n",
    "scores\n",
    "\n",
    "\n",
    "sorting = np.argsort(scores)\n",
    "sorting"
   ]
  },
  {
   "cell_type": "code",
   "execution_count": 88,
   "metadata": {},
   "outputs": [
    {
     "name": "stderr",
     "output_type": "stream",
     "text": [
      "INFO:root:saving Geologic Contacts\n",
      "INFO:root:saving Linear Features\n",
      "INFO:root:saving Surface Features\n",
      "INFO:root:saving Geologic Units\n",
      "INFO:root:saving Map Boundary\n"
     ]
    }
   ],
   "source": [
    "alldata = list(tosave.items())\n",
    "\n",
    "for id in sorting:\n",
    "    lname = alldata[id][0]\n",
    "    table = alldata[id][1]\n",
    "    log.info(f\"saving {lname}\")\n",
    "    table.to_file(outgpkg, driver=\"GPKG\", layer=lname)"
   ]
  },
  {
   "cell_type": "markdown",
   "metadata": {},
   "source": [
    "# \\todo add checks on the total number of layers received as input to the actual geopackage"
   ]
  },
  {
   "cell_type": "code",
   "execution_count": null,
   "metadata": {},
   "outputs": [],
   "source": []
  },
  {
   "cell_type": "code",
   "execution_count": null,
   "metadata": {},
   "outputs": [],
   "source": []
  },
  {
   "cell_type": "code",
   "execution_count": 89,
   "metadata": {},
   "outputs": [
    {
     "name": "stderr",
     "output_type": "stream",
     "text": [
      "INFO:fiona.ogrext:Failed to auto identify EPSG: 7\n"
     ]
    }
   ],
   "source": [
    "tabfile = \"/run/media/luca/data/planmap/Planmap/DATA/mercury/PM-MER-MS-H02_3cc_01/vector/Mercury_H02_Galluzzi2016_JOM_shapefiles/Symbology/codes.csv\"\n",
    "layername = \"Geologic Units\"\n",
    "table = gp.GeoDataFrame.from_file( outgpkg, layer=layername)\n",
    "table[\"UNIT\"] = table[\"UNIT\"].str.strip()\n",
    "table[\"UNIT\"] = table[\"UNIT\"].str.lower()\n"
   ]
  },
  {
   "cell_type": "code",
   "execution_count": null,
   "metadata": {},
   "outputs": [],
   "source": []
  },
  {
   "cell_type": "code",
   "execution_count": 90,
   "metadata": {},
   "outputs": [
    {
     "name": "stderr",
     "output_type": "stream",
     "text": [
      "/usr/lib/python3.7/site-packages/ipykernel_launcher.py:2: FutureWarning: from_csv is deprecated. Please use read_csv(...) instead. Note that some of the default arguments are different, so please refer to the documentation for from_csv when changing your function calls\n",
      "  \n"
     ]
    },
    {
     "data": {
      "text/html": [
       "<div>\n",
       "<style scoped>\n",
       "    .dataframe tbody tr th:only-of-type {\n",
       "        vertical-align: middle;\n",
       "    }\n",
       "\n",
       "    .dataframe tbody tr th {\n",
       "        vertical-align: top;\n",
       "    }\n",
       "\n",
       "    .dataframe thead th {\n",
       "        text-align: right;\n",
       "    }\n",
       "</style>\n",
       "<table border=\"1\" class=\"dataframe\">\n",
       "  <thead>\n",
       "    <tr style=\"text-align: right;\">\n",
       "      <th></th>\n",
       "      <th>label</th>\n",
       "      <th>UNIT</th>\n",
       "      <th>r</th>\n",
       "      <th>g</th>\n",
       "      <th>b</th>\n",
       "    </tr>\n",
       "  </thead>\n",
       "  <tbody>\n",
       "    <tr>\n",
       "      <th>0</th>\n",
       "      <td>Smooth Plains</td>\n",
       "      <td>spp</td>\n",
       "      <td>255</td>\n",
       "      <td>190</td>\n",
       "      <td>190</td>\n",
       "    </tr>\n",
       "    <tr>\n",
       "      <th>1</th>\n",
       "      <td>Northern Smooth Plains</td>\n",
       "      <td>spn</td>\n",
       "      <td>245</td>\n",
       "      <td>162</td>\n",
       "      <td>122</td>\n",
       "    </tr>\n",
       "    <tr>\n",
       "      <th>2</th>\n",
       "      <td>Intermediate Plains</td>\n",
       "      <td>imp</td>\n",
       "      <td>245</td>\n",
       "      <td>122</td>\n",
       "      <td>122</td>\n",
       "    </tr>\n",
       "    <tr>\n",
       "      <th>3</th>\n",
       "      <td>Intercrater Plains</td>\n",
       "      <td>icp</td>\n",
       "      <td>137</td>\n",
       "      <td>90</td>\n",
       "      <td>68</td>\n",
       "    </tr>\n",
       "    <tr>\n",
       "      <th>4</th>\n",
       "      <td>Crater material-well preserved</td>\n",
       "      <td>c3</td>\n",
       "      <td>255</td>\n",
       "      <td>255</td>\n",
       "      <td>115</td>\n",
       "    </tr>\n",
       "    <tr>\n",
       "      <th>5</th>\n",
       "      <td>Crater material-degraded</td>\n",
       "      <td>c2</td>\n",
       "      <td>92</td>\n",
       "      <td>137</td>\n",
       "      <td>68</td>\n",
       "    </tr>\n",
       "    <tr>\n",
       "      <th>6</th>\n",
       "      <td>Crater material-heavily degraded</td>\n",
       "      <td>c1</td>\n",
       "      <td>115</td>\n",
       "      <td>0</td>\n",
       "      <td>0</td>\n",
       "    </tr>\n",
       "    <tr>\n",
       "      <th>7</th>\n",
       "      <td>Crater floor material-smooth</td>\n",
       "      <td>scf</td>\n",
       "      <td>255</td>\n",
       "      <td>255</td>\n",
       "      <td>175</td>\n",
       "    </tr>\n",
       "    <tr>\n",
       "      <th>8</th>\n",
       "      <td>Crater floor material-hummocky</td>\n",
       "      <td>hcf</td>\n",
       "      <td>205</td>\n",
       "      <td>170</td>\n",
       "      <td>102</td>\n",
       "    </tr>\n",
       "  </tbody>\n",
       "</table>\n",
       "</div>"
      ],
      "text/plain": [
       "                              label UNIT    r    g    b\n",
       "0                     Smooth Plains  spp  255  190  190\n",
       "1            Northern Smooth Plains  spn  245  162  122\n",
       "2               Intermediate Plains  imp  245  122  122\n",
       "3                Intercrater Plains  icp  137   90   68\n",
       "4    Crater material-well preserved   c3  255  255  115\n",
       "5          Crater material-degraded   c2   92  137   68\n",
       "6  Crater material-heavily degraded   c1  115    0    0\n",
       "7      Crater floor material-smooth  scf  255  255  175\n",
       "8    Crater floor material-hummocky  hcf  205  170  102"
      ]
     },
     "execution_count": 90,
     "metadata": {},
     "output_type": "execute_result"
    }
   ],
   "source": [
    "import pandas as pd\n",
    "newtab = pd.DataFrame.from_csv(tabfile, sep=\",\", index_col=None )\n",
    "newtab"
   ]
  },
  {
   "cell_type": "code",
   "execution_count": 91,
   "metadata": {},
   "outputs": [
    {
     "data": {
      "text/plain": [
       "array(['c1', 'c2', 'c3', 'hcf', 'icp', 'imp', 'scf', 'spn', 'spp'],\n",
       "      dtype=object)"
      ]
     },
     "execution_count": 91,
     "metadata": {},
     "output_type": "execute_result"
    }
   ],
   "source": [
    "tomatch"
   ]
  },
  {
   "cell_type": "code",
   "execution_count": 92,
   "metadata": {},
   "outputs": [
    {
     "name": "stdout",
     "output_type": "stream",
     "text": [
      "c1 is ok\n",
      "c2 is ok\n",
      "c3 is ok\n",
      "hcf is ok\n",
      "icp is ok\n",
      "imp is ok\n",
      "scf is ok\n",
      "spn is ok\n",
      "spp is ok\n"
     ]
    }
   ],
   "source": [
    "matchname = \"UNIT\"\n",
    "\n",
    "tomatch = np.unique(table[matchname])\n",
    "testmatch = list(newtab[matchname])\n",
    "\n",
    "for m in tomatch:\n",
    "    if m not in testmatch:\n",
    "        print(f\"---> Check {m} -> not in list\")\n",
    "    else:\n",
    "        print(f\"{m} is ok\")"
   ]
  },
  {
   "cell_type": "code",
   "execution_count": 93,
   "metadata": {},
   "outputs": [],
   "source": [
    "fulldata = pd.merge(   table, newtab, on=\"UNIT\")\n",
    "fulldata\n",
    "# fulldata = geopandas.GeoDataFrame(fulldata)\n",
    "# fulldata.drop(columns=[\"Join_Count\", \"TARGET_FID\"])\n",
    "\n",
    "fulldata.to_file(outgpkg, layer=layername, driver=\"GPKG\")\n"
   ]
  },
  {
   "cell_type": "code",
   "execution_count": null,
   "metadata": {},
   "outputs": [],
   "source": []
  },
  {
   "cell_type": "code",
   "execution_count": null,
   "metadata": {},
   "outputs": [],
   "source": []
  },
  {
   "cell_type": "code",
   "execution_count": null,
   "metadata": {},
   "outputs": [],
   "source": []
  }
 ],
 "metadata": {
  "kernelspec": {
   "display_name": "Python 3",
   "language": "python",
   "name": "python3"
  },
  "language_info": {
   "codemirror_mode": {
    "name": "ipython",
    "version": 3
   },
   "file_extension": ".py",
   "mimetype": "text/x-python",
   "name": "python",
   "nbconvert_exporter": "python",
   "pygments_lexer": "ipython3",
   "version": "3.7.3"
  }
 },
 "nbformat": 4,
 "nbformat_minor": 2
}

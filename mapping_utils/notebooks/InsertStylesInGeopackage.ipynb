{
 "cells": [
  {
   "cell_type": "code",
   "execution_count": 45,
   "metadata": {},
   "outputs": [],
   "source": [
    "import qgis\n",
    "from qgis.core import QgsVectorLayer\n",
    "\n",
    "import logging as log\n",
    "log.getLogger().setLevel(log.INFO)"
   ]
  },
  {
   "cell_type": "code",
   "execution_count": null,
   "metadata": {},
   "outputs": [],
   "source": []
  },
  {
   "cell_type": "code",
   "execution_count": 46,
   "metadata": {},
   "outputs": [],
   "source": [
    "import sqlite3\n",
    "from time import strftime, time\n",
    "# now = datetime.now()\n",
    "\n",
    "# strftime('%Y-%m-%dT%H:%M:%fZ',now)"
   ]
  },
  {
   "cell_type": "code",
   "execution_count": 47,
   "metadata": {},
   "outputs": [],
   "source": [
    "gpkg = \"/data/SciDataHub/projects/planmap_maps/crommelin/Crommelin_draft_v2.gpkg\"\n",
    "con = sqlite3.connect(gpkg)\n",
    "cc = con.cursor()"
   ]
  },
  {
   "cell_type": "code",
   "execution_count": null,
   "metadata": {},
   "outputs": [],
   "source": []
  },
  {
   "cell_type": "code",
   "execution_count": null,
   "metadata": {},
   "outputs": [],
   "source": []
  },
  {
   "cell_type": "code",
   "execution_count": null,
   "metadata": {},
   "outputs": [],
   "source": []
  },
  {
   "cell_type": "code",
   "execution_count": 48,
   "metadata": {},
   "outputs": [],
   "source": [
    "\n",
    "# cc.execute('CREATE TABLE IF NOT EXISTS \"layer_styles\" \\\n",
    "#     ( \"id\" INTEGER PRIMARY KEY AUTOINCREMENT NOT NULL, \\\n",
    "#     \"f_table_catalog\" TEXT(256), \\\n",
    "#            \"f_table_schema\" TEXT(256), \\\n",
    "#            \"f_table_name\" TEXT(256), \\\n",
    "#            \"f_geometry_column\" TEXT(256), \\\n",
    "#            \"styleName\" TEXT(30), \\\n",
    "#            \"styleQML\" TEXT, \"styleSLD\" TEXT, \"useAsDefault\" BOOLEAN, \"description\" TEXT, \\\n",
    "#            \"owner\" TEXT(30), \"ui\" TEXT(30), \\\n",
    "#            \"update_time\" DATETIME DEFAULT (strftime('%Y-%m-%dT%H:%M:%fZ','now')))')\n",
    "\n",
    "\n",
    "# cc.execute('CREATE TRIGGER  IF NOT EXISTS \"trigger_insert_feature_count_layer_styles\" AFTER INSERT ON \"layer_styles\" BEGIN UPDATE gpkg_ogr_contents SET feature_count = feature_count + 1 WHERE lower(table_name) = lower('layer_styles'); END')"
   ]
  },
  {
   "cell_type": "code",
   "execution_count": 49,
   "metadata": {},
   "outputs": [],
   "source": [
    "# c.execute(\"INSERT INTO {tn} ({idf}, {cn}) VALUES (123456, 'test')\".\\\n",
    "#         format(tn=table_name, idf=id_column, cn=column_name))"
   ]
  },
  {
   "cell_type": "code",
   "execution_count": 50,
   "metadata": {},
   "outputs": [
    {
     "name": "stderr",
     "output_type": "stream",
     "text": [
      "INFO:root:matched /data/SciDataHub/projects/planmap_maps/crommelin/Crommelin_Styles/Aeolian_Deposits.qml\n",
      "INFO:root:matched /data/SciDataHub/projects/planmap_maps/crommelin/Crommelin_Styles/Surrounding_terrains.qml\n",
      "INFO:root:matched /data/SciDataHub/projects/planmap_maps/crommelin/Crommelin_Styles/Units_Central_Crater_Bulge.qml\n",
      "INFO:root:matched /data/SciDataHub/projects/planmap_maps/crommelin/Crommelin_Styles/Units_Crater_Rim.qml\n",
      "INFO:root:matched /data/SciDataHub/projects/planmap_maps/crommelin/Crommelin_Styles/Units_Inner_Crater_Layered.qml\n",
      "INFO:root:matched /data/SciDataHub/projects/planmap_maps/crommelin/Crommelin_Styles/Units_Secondary_Craters_Related.qml\n"
     ]
    }
   ],
   "source": [
    "from osgeo import ogr\n",
    "import os\n",
    "sfilefolder = \"/data/SciDataHub/projects/planmap_maps/crommelin/Crommelin_Styles/\"\n",
    "conn = ogr.Open(gpkg)\n",
    "\n",
    "for i in conn:\n",
    "    # append the layername part\n",
    "    name  = i.GetName()\n",
    "    if name == \"layer_styles\":\n",
    "        continue\n",
    "    \n",
    "    # match the style file \n",
    "#     log.info(name)\n",
    "    \n",
    "    tfile = os.path.join(sfilefolder, name.strip() + \".qml\")\n",
    "    tfile2 = os.path.join(sfilefolder, name.strip() + \".sld\")\n",
    "#     log.info(f\"trying {tfile}\")\n",
    "    \n",
    "    \n",
    "    if not os.path.exists(tfile):\n",
    "        continue\n",
    "    \n",
    "    log.info(f\"matched {tfile}\")\n",
    "        \n",
    "    with open(tfile, 'r', encoding='utf-8') as file:\n",
    "        data_qml = file.read() \n",
    "        \n",
    "        \n",
    "    with open(tfile2, 'r', encoding='utf-8') as file:\n",
    "        data_sld = file.read() \n",
    "        \n",
    "#     data_qml = data_qml.encode(encoding=None)\n",
    "#     data_sld = data_sld.encode(encoding=None)\n",
    "        \n",
    "#     q = f\"INSERT INTO layer_styles (f_table_name, f_geometry_column, styleName, styleQML, styleSLD, useAsDefault) VALUES (\\'{name}\\', 'geom', \\'{name}\\', \\'{data_qml}\\', '{data_sld}', '1');\"\n",
    "    q = f\"INSERT INTO layer_styles (description, f_table_name, f_geometry_column, styleName, useAsDefault, styleQML, styleSLD) VALUES ('Fri May 10 16:35:07 2019', '{name}', 'geom', '{name.strip()}', 1, ?, ?);\"\n",
    "\n",
    "#     log.info(f\"query {q}\")\n",
    "    cc.execute(q, [data_qml, data_sld])\n",
    "        \n",
    "#     cursor.execute(\"Update data SET raw_str=? where id=1\", [long_string])\n",
    "    \n",
    "#     log.info(name)\n",
    "    \n",
    "#     fullpath = gpkg + f\"|layername={name}\"\n",
    "#     log.info(f\"fullpath {fullpath}\")\n",
    "    \n",
    "#     vlayer = QgsVectorLayer(fullpath, name, \"ogr\")\n",
    "    \n",
    "#     if not vlayer.isValid():\n",
    "#         print(\"Layer failed to load!\")\n",
    "    \n"
   ]
  },
  {
   "cell_type": "code",
   "execution_count": 51,
   "metadata": {},
   "outputs": [],
   "source": [
    "con.commit()\n",
    "con.close()"
   ]
  },
  {
   "cell_type": "code",
   "execution_count": null,
   "metadata": {},
   "outputs": [],
   "source": [
    "\n"
   ]
  }
 ],
 "metadata": {
  "kernelspec": {
   "display_name": "Python 3",
   "language": "python",
   "name": "python3"
  },
  "language_info": {
   "codemirror_mode": {
    "name": "ipython",
    "version": 3
   },
   "file_extension": ".py",
   "mimetype": "text/x-python",
   "name": "python",
   "nbconvert_exporter": "python",
   "pygments_lexer": "ipython3",
   "version": "3.7.3"
  }
 },
 "nbformat": 4,
 "nbformat_minor": 2
}

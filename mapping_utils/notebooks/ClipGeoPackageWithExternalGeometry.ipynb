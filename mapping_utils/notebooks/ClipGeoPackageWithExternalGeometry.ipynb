{
 "cells": [
  {
   "cell_type": "code",
   "execution_count": 38,
   "metadata": {},
   "outputs": [
    {
     "name": "stdout",
     "output_type": "stream",
     "text": [
      "Populating the interactive namespace from numpy and matplotlib\n"
     ]
    },
    {
     "name": "stderr",
     "output_type": "stream",
     "text": [
      "/usr/lib/python3.7/site-packages/IPython/core/magics/pylab.py:160: UserWarning: pylab import has clobbered these variables: ['shape', 'table']\n",
      "`%matplotlib` prevents importing * from pylab and numpy\n",
      "  \"\\n`%matplotlib` prevents importing * from pylab and numpy\"\n"
     ]
    }
   ],
   "source": [
    "%pylab inline\n",
    "from osgeo import ogr"
   ]
  },
  {
   "cell_type": "code",
   "execution_count": 39,
   "metadata": {},
   "outputs": [],
   "source": [
    "from external_code import clip_shp"
   ]
  },
  {
   "cell_type": "code",
   "execution_count": 40,
   "metadata": {},
   "outputs": [
    {
     "name": "stdout",
     "output_type": "stream",
     "text": [
      "['Crommelin_v2  Aeolian_Deposits', 'Crommelin_v2  Craters_Outlines', 'Crommelin_v2  Faults', 'Crommelin_v2  Geologic_Contacts', 'Crommelin_v2  Map_Boundaries', 'Crommelin_v2  Radial_Indurated_Ridges', 'Crommelin_v2  Surrounding_terrains', 'Crommelin_v2  Units_Central_Crater_Bulge', 'Crommelin_v2  Units_Crater_Rim', 'Crommelin_v2  Units_Inner_Crater_Layered', 'Crommelin_v2  Units_Secondary_Craters_Related', 'Crommelin_v2  Yardang_Orientations']\n"
     ]
    }
   ],
   "source": [
    "pack = \"/data/crom_to_clip/Crommelin_v3.gpkg\"\n",
    "shape = \"/data/crom_to_clip/Map_Extent/Map_Extent.shp\"\n",
    "\n",
    "\n",
    "\n",
    "conn = ogr.Open(pack)\n",
    "\n",
    "layernames = [ ]\n",
    "\n",
    "# next we do some filtering, not always needed.\n",
    "for i in conn:\n",
    "    name = i.GetName()\n",
    "    if name.startswith(\"Cro\"):\n",
    "        layernames.append(name)\n",
    "\n",
    "if \"layer_styles\" in layernames:\n",
    "    layernames.remove(\"layer_styles\") # remove if any\n",
    "\n",
    "print(layernames)"
   ]
  },
  {
   "cell_type": "code",
   "execution_count": null,
   "metadata": {},
   "outputs": [],
   "source": []
  },
  {
   "cell_type": "code",
   "execution_count": 41,
   "metadata": {},
   "outputs": [
    {
     "data": {
      "text/html": [
       "<div>\n",
       "<style scoped>\n",
       "    .dataframe tbody tr th:only-of-type {\n",
       "        vertical-align: middle;\n",
       "    }\n",
       "\n",
       "    .dataframe tbody tr th {\n",
       "        vertical-align: top;\n",
       "    }\n",
       "\n",
       "    .dataframe thead th {\n",
       "        text-align: right;\n",
       "    }\n",
       "</style>\n",
       "<table border=\"1\" class=\"dataframe\">\n",
       "  <thead>\n",
       "    <tr style=\"text-align: right;\">\n",
       "      <th></th>\n",
       "      <th>Id</th>\n",
       "      <th>geometry</th>\n",
       "    </tr>\n",
       "  </thead>\n",
       "  <tbody>\n",
       "    <tr>\n",
       "      <th>0</th>\n",
       "      <td>0</td>\n",
       "      <td>POLYGON ((-661021.0120456349 368957.3645695243...</td>\n",
       "    </tr>\n",
       "  </tbody>\n",
       "</table>\n",
       "</div>"
      ],
      "text/plain": [
       "   Id                                           geometry\n",
       "0   0  POLYGON ((-661021.0120456349 368957.3645695243..."
      ]
     },
     "execution_count": 41,
     "metadata": {},
     "output_type": "execute_result"
    }
   ],
   "source": [
    "import geopandas as gpd\n",
    "\n",
    "\n",
    "\n",
    "\n",
    "clipper = gpd.GeoDataFrame.from_file(shape) #.geometry[0]\n",
    "clipper"
   ]
  },
  {
   "cell_type": "code",
   "execution_count": 42,
   "metadata": {},
   "outputs": [
    {
     "data": {
      "text/plain": [
       "['Crommelin_v2  Aeolian_Deposits',\n",
       " 'Crommelin_v2  Craters_Outlines',\n",
       " 'Crommelin_v2  Faults',\n",
       " 'Crommelin_v2  Geologic_Contacts',\n",
       " 'Crommelin_v2  Map_Boundaries',\n",
       " 'Crommelin_v2  Radial_Indurated_Ridges',\n",
       " 'Crommelin_v2  Surrounding_terrains',\n",
       " 'Crommelin_v2  Units_Central_Crater_Bulge',\n",
       " 'Crommelin_v2  Units_Crater_Rim',\n",
       " 'Crommelin_v2  Units_Inner_Crater_Layered',\n",
       " 'Crommelin_v2  Units_Secondary_Craters_Related',\n",
       " 'Crommelin_v2  Yardang_Orientations']"
      ]
     },
     "execution_count": 42,
     "metadata": {},
     "output_type": "execute_result"
    }
   ],
   "source": [
    "layernames"
   ]
  },
  {
   "cell_type": "code",
   "execution_count": null,
   "metadata": {},
   "outputs": [],
   "source": []
  },
  {
   "cell_type": "code",
   "execution_count": 43,
   "metadata": {},
   "outputs": [
    {
     "name": "stdout",
     "output_type": "stream",
     "text": [
      "Crommelin_v2  Aeolian_Deposits\n",
      "Crommelin_v2  Craters_Outlines\n",
      "Crommelin_v2  Faults\n",
      "Crommelin_v2  Geologic_Contacts\n",
      "Crommelin_v2  Map_Boundaries\n",
      "Crommelin_v2  Radial_Indurated_Ridges\n",
      "Crommelin_v2  Surrounding_terrains\n",
      "Crommelin_v2  Units_Central_Crater_Bulge\n",
      "Crommelin_v2  Units_Crater_Rim\n",
      "Crommelin_v2  Units_Inner_Crater_Layered\n",
      "Crommelin_v2  Units_Secondary_Craters_Related\n",
      "Crommelin_v2  Yardang_Orientations\n"
     ]
    }
   ],
   "source": [
    "tables =  []\n",
    "for l in layernames:\n",
    "    print (l)\n",
    "    table = gpd.GeoDataFrame.from_file(pack, layer= l)\n",
    "    if len(table) == 0:\n",
    "        continue\n",
    "        \n",
    "    tables.append(table)\n",
    "#     newtab = gpd.overlay(table, clipper, how='intersection')\n",
    "    newtab = clip_shp(table, clipper)\n",
    "    \n",
    "    \n",
    "    newname = l.split()[1]\n",
    "    \n",
    "    newtab.to_file(pack, driver=\"GPKG\", layer=newname)"
   ]
  },
  {
   "cell_type": "code",
   "execution_count": 44,
   "metadata": {},
   "outputs": [],
   "source": [
    "styles = gpd.GeoDataFrame.from_file(pack, layer= \"layer_styles\")"
   ]
  },
  {
   "cell_type": "code",
   "execution_count": 45,
   "metadata": {},
   "outputs": [
    {
     "ename": "IndexError",
     "evalue": "list index out of range",
     "output_type": "error",
     "traceback": [
      "\u001b[0;31m---------------------------------------------------------------------------\u001b[0m",
      "\u001b[0;31mIndexError\u001b[0m                                Traceback (most recent call last)",
      "\u001b[0;32m<ipython-input-45-1e7c7ccfd115>\u001b[0m in \u001b[0;36m<module>\u001b[0;34m\u001b[0m\n\u001b[1;32m      1\u001b[0m \u001b[0morig_names\u001b[0m \u001b[0;34m=\u001b[0m \u001b[0mstyles\u001b[0m\u001b[0;34m.\u001b[0m\u001b[0mf_table_name\u001b[0m\u001b[0;34m.\u001b[0m\u001b[0mvalues\u001b[0m\u001b[0;34m\u001b[0m\u001b[0;34m\u001b[0m\u001b[0m\n\u001b[0;32m----> 2\u001b[0;31m \u001b[0mnew_names\u001b[0m \u001b[0;34m=\u001b[0m \u001b[0;34m[\u001b[0m\u001b[0mn\u001b[0m\u001b[0;34m.\u001b[0m\u001b[0msplit\u001b[0m\u001b[0;34m(\u001b[0m\u001b[0;34m)\u001b[0m\u001b[0;34m[\u001b[0m\u001b[0;36m1\u001b[0m\u001b[0;34m]\u001b[0m \u001b[0;32mfor\u001b[0m \u001b[0mn\u001b[0m \u001b[0;32min\u001b[0m \u001b[0morig_names\u001b[0m\u001b[0;34m]\u001b[0m\u001b[0;34m\u001b[0m\u001b[0;34m\u001b[0m\u001b[0m\n\u001b[0m\u001b[1;32m      3\u001b[0m \u001b[0mnew_names\u001b[0m\u001b[0;34m\u001b[0m\u001b[0;34m\u001b[0m\u001b[0m\n\u001b[1;32m      4\u001b[0m \u001b[0mstyles\u001b[0m\u001b[0;34m[\u001b[0m\u001b[0;34m\"f_table_name\"\u001b[0m\u001b[0;34m]\u001b[0m \u001b[0;34m=\u001b[0m \u001b[0mnew_names\u001b[0m\u001b[0;34m\u001b[0m\u001b[0;34m\u001b[0m\u001b[0m\n",
      "\u001b[0;32m<ipython-input-45-1e7c7ccfd115>\u001b[0m in \u001b[0;36m<listcomp>\u001b[0;34m(.0)\u001b[0m\n\u001b[1;32m      1\u001b[0m \u001b[0morig_names\u001b[0m \u001b[0;34m=\u001b[0m \u001b[0mstyles\u001b[0m\u001b[0;34m.\u001b[0m\u001b[0mf_table_name\u001b[0m\u001b[0;34m.\u001b[0m\u001b[0mvalues\u001b[0m\u001b[0;34m\u001b[0m\u001b[0;34m\u001b[0m\u001b[0m\n\u001b[0;32m----> 2\u001b[0;31m \u001b[0mnew_names\u001b[0m \u001b[0;34m=\u001b[0m \u001b[0;34m[\u001b[0m\u001b[0mn\u001b[0m\u001b[0;34m.\u001b[0m\u001b[0msplit\u001b[0m\u001b[0;34m(\u001b[0m\u001b[0;34m)\u001b[0m\u001b[0;34m[\u001b[0m\u001b[0;36m1\u001b[0m\u001b[0;34m]\u001b[0m \u001b[0;32mfor\u001b[0m \u001b[0mn\u001b[0m \u001b[0;32min\u001b[0m \u001b[0morig_names\u001b[0m\u001b[0;34m]\u001b[0m\u001b[0;34m\u001b[0m\u001b[0;34m\u001b[0m\u001b[0m\n\u001b[0m\u001b[1;32m      3\u001b[0m \u001b[0mnew_names\u001b[0m\u001b[0;34m\u001b[0m\u001b[0;34m\u001b[0m\u001b[0m\n\u001b[1;32m      4\u001b[0m \u001b[0mstyles\u001b[0m\u001b[0;34m[\u001b[0m\u001b[0;34m\"f_table_name\"\u001b[0m\u001b[0;34m]\u001b[0m \u001b[0;34m=\u001b[0m \u001b[0mnew_names\u001b[0m\u001b[0;34m\u001b[0m\u001b[0;34m\u001b[0m\u001b[0m\n",
      "\u001b[0;31mIndexError\u001b[0m: list index out of range"
     ]
    }
   ],
   "source": [
    "orig_names = styles.f_table_name.values\n",
    "new_names = [n.split()[1] for n in orig_names]\n",
    "new_names\n",
    "styles[\"f_table_name\"] = new_names\n"
   ]
  },
  {
   "cell_type": "code",
   "execution_count": null,
   "metadata": {},
   "outputs": [],
   "source": [
    "styles.to_file(pack, driver=\"GPKG\", layer=\"layer_styles\")"
   ]
  },
  {
   "cell_type": "code",
   "execution_count": null,
   "metadata": {},
   "outputs": [],
   "source": []
  },
  {
   "cell_type": "code",
   "execution_count": null,
   "metadata": {},
   "outputs": [],
   "source": []
  }
 ],
 "metadata": {
  "kernelspec": {
   "display_name": "Python 3",
   "language": "python",
   "name": "python3"
  },
  "language_info": {
   "codemirror_mode": {
    "name": "ipython",
    "version": 3
   },
   "file_extension": ".py",
   "mimetype": "text/x-python",
   "name": "python",
   "nbconvert_exporter": "python",
   "pygments_lexer": "ipython3",
   "version": "3.7.3"
  }
 },
 "nbformat": 4,
 "nbformat_minor": 2
}

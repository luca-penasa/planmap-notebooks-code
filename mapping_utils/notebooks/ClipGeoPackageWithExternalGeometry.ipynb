{
 "cells": [
  {
   "cell_type": "markdown",
   "metadata": {},
   "source": [
    "# PLEASE NOTE: multipolygon and in general multy-geometries are not supported!"
   ]
  },
  {
   "cell_type": "code",
   "execution_count": 17,
   "metadata": {},
   "outputs": [
    {
     "name": "stdout",
     "output_type": "stream",
     "text": [
      "Populating the interactive namespace from numpy and matplotlib\n"
     ]
    },
    {
     "name": "stderr",
     "output_type": "stream",
     "text": [
      "/usr/lib/python3.7/site-packages/IPython/core/magics/pylab.py:160: UserWarning: pylab import has clobbered these variables: ['shape', 'table']\n",
      "`%matplotlib` prevents importing * from pylab and numpy\n",
      "  \"\\n`%matplotlib` prevents importing * from pylab and numpy\"\n"
     ]
    }
   ],
   "source": [
    "%pylab inline\n",
    "from osgeo import ogr"
   ]
  },
  {
   "cell_type": "code",
   "execution_count": 18,
   "metadata": {},
   "outputs": [],
   "source": [
    "# from external_code import clip_shp\n",
    "from earthpy.clip import clip_shp"
   ]
  },
  {
   "cell_type": "markdown",
   "metadata": {},
   "source": [
    "# notice that for renaming a layer in a geopackage also \n",
    "```\n",
    "ogrinfo my_geopackage.gpkg -sql \"ALTER TABLE layer_name RENAME TO new_layer\"\n",
    "```\n",
    "should work - not tested!\n",
    "\n",
    "actually you need more commands:\n",
    "https://gis.stackexchange.com/questions/252782/remove-a-raster-from-geopackage\n",
    "\n",
    "e.g. \n",
    "\n",
    "``` \n",
    "ogrinfo -sql \"delete from gpkg_tile_matrix_set where table_name='raster2'\" droptest.gpkg\n",
    "ogrinfo -sql \"delete from gpkg_tile_matrix where table_name='raster2'\" droptest.gpkg\n",
    "ogrinfo -sql \"delete from gpkg_metadata_reference where table_name='raster2'\" droptest.gpkg\n",
    "ogrinfo -sql \"delete from gpkg_contents where table_name='raster2'\" droptest.gpkg\n",
    "ogrinfo -sql \"drop table raster2\" droptest.gpkg\n",
    "\n",
    "```\n",
    "or maybe not (?)\n",
    "https://www.gdal.org/drv_geopackage.html\n"
   ]
  },
  {
   "cell_type": "code",
   "execution_count": 19,
   "metadata": {},
   "outputs": [
    {
     "name": "stdout",
     "output_type": "stream",
     "text": [
      "[' Contacts', ' Geological_UnitsOk', ' Liear_Features', ' Linear_Features', ' Pyroclastic_Deposits']\n"
     ]
    }
   ],
   "source": [
    "pack = \"/home/luca/Downloads/Copernicus.gpkg\"\n",
    "shape = \"/home/luca/Downloads/Archivio/area_detail.shp\"\n",
    "\n",
    "outpack = pack\n",
    "outpack = \"/home/luca/Downloads/Copernicus2.gpkg\"\n",
    "\n",
    "conn = ogr.Open(pack)\n",
    "\n",
    "layernames = [ ]\n",
    "\n",
    "# next we do some filtering, not always needed.\n",
    "for i in conn:\n",
    "    name = i.GetName()\n",
    "    if not (name.startswith(\" Landf\") ):\n",
    "        layernames.append(name)\n",
    "\n",
    "if \"layer_styles\" in layernames:\n",
    "    layernames.remove(\"layer_styles\") # remove if any\n",
    "\n",
    "print(layernames)"
   ]
  },
  {
   "cell_type": "code",
   "execution_count": null,
   "metadata": {},
   "outputs": [],
   "source": []
  },
  {
   "cell_type": "code",
   "execution_count": 20,
   "metadata": {},
   "outputs": [
    {
     "data": {
      "text/html": [
       "<div>\n",
       "<style scoped>\n",
       "    .dataframe tbody tr th:only-of-type {\n",
       "        vertical-align: middle;\n",
       "    }\n",
       "\n",
       "    .dataframe tbody tr th {\n",
       "        vertical-align: top;\n",
       "    }\n",
       "\n",
       "    .dataframe thead th {\n",
       "        text-align: right;\n",
       "    }\n",
       "</style>\n",
       "<table border=\"1\" class=\"dataframe\">\n",
       "  <thead>\n",
       "    <tr style=\"text-align: right;\">\n",
       "      <th></th>\n",
       "      <th>OBJECTID</th>\n",
       "      <th>SHAPE_Leng</th>\n",
       "      <th>SHAPE_Area</th>\n",
       "      <th>geometry</th>\n",
       "    </tr>\n",
       "  </thead>\n",
       "  <tbody>\n",
       "    <tr>\n",
       "      <th>0</th>\n",
       "      <td>1.0</td>\n",
       "      <td>249495.769968</td>\n",
       "      <td>3.886445e+09</td>\n",
       "      <td>POLYGON ((-658858.2790000001 342997.0221000002...</td>\n",
       "    </tr>\n",
       "  </tbody>\n",
       "</table>\n",
       "</div>"
      ],
      "text/plain": [
       "   OBJECTID     SHAPE_Leng    SHAPE_Area  \\\n",
       "0       1.0  249495.769968  3.886445e+09   \n",
       "\n",
       "                                            geometry  \n",
       "0  POLYGON ((-658858.2790000001 342997.0221000002...  "
      ]
     },
     "execution_count": 20,
     "metadata": {},
     "output_type": "execute_result"
    }
   ],
   "source": [
    "import geopandas as gpd\n",
    "\n",
    "\n",
    "\n",
    "\n",
    "clipper = gpd.GeoDataFrame.from_file(shape) #.geometry[0]\n",
    "clipper"
   ]
  },
  {
   "cell_type": "code",
   "execution_count": 22,
   "metadata": {},
   "outputs": [
    {
     "name": "stdout",
     "output_type": "stream",
     "text": [
      " Contacts\n"
     ]
    },
    {
     "name": "stderr",
     "output_type": "stream",
     "text": [
      "/run/media/luca/data/Code/planmap-notebooks-code.git/mapping_utils/notebooks/external_code.py:31: SettingWithCopyWarning: \n",
      "A value is trying to be set on a copy of a slice from a DataFrame.\n",
      "Try using .loc[row_indexer,col_indexer] = value instead\n",
      "\n",
      "See the caveats in the documentation: http://pandas.pydata.org/pandas-docs/stable/indexing.html#indexing-view-versus-copy\n",
      "  shp_sub['geometry'] = shp_sub.intersection(poly)\n"
     ]
    },
    {
     "name": "stdout",
     "output_type": "stream",
     "text": [
      " Geological_UnitsOk\n",
      " Liear_Features\n",
      " Linear_Features\n",
      " Pyroclastic_Deposits\n"
     ]
    }
   ],
   "source": [
    "tables =  []\n",
    "for l in layernames:\n",
    "    print (l)\n",
    "    table = gpd.GeoDataFrame.from_file(pack, layer= l)\n",
    "    if len(table) == 0:\n",
    "        continue\n",
    "        \n",
    "    tables.append(table)\n",
    "#     newtab = gpd.overlay(table, clipper, how='intersection')\n",
    "    newtab = clip_shp(table, clipper)\n",
    "    \n",
    "    \n",
    "    newname = l\n",
    "    \n",
    "    newtab.to_file(outpack, driver=\"GPKG\", layer=newname)"
   ]
  },
  {
   "cell_type": "markdown",
   "metadata": {},
   "source": [
    "# if you need to apply or do something on the style table "
   ]
  },
  {
   "cell_type": "code",
   "execution_count": null,
   "metadata": {},
   "outputs": [],
   "source": [
    "styles = gpd.GeoDataFrame.from_file(pack, layer= \"layer_styles\")"
   ]
  },
  {
   "cell_type": "code",
   "execution_count": null,
   "metadata": {},
   "outputs": [],
   "source": [
    "orig_names = styles.f_table_name.values\n",
    "new_names = [n.split()[1] for n in orig_names]\n",
    "new_names\n",
    "styles[\"f_table_name\"] = new_names\n"
   ]
  },
  {
   "cell_type": "code",
   "execution_count": null,
   "metadata": {},
   "outputs": [],
   "source": [
    "styles.to_file(pack, driver=\"GPKG\", layer=\"layer_styles\")"
   ]
  },
  {
   "cell_type": "code",
   "execution_count": null,
   "metadata": {},
   "outputs": [],
   "source": []
  },
  {
   "cell_type": "code",
   "execution_count": null,
   "metadata": {},
   "outputs": [],
   "source": []
  }
 ],
 "metadata": {
  "kernelspec": {
   "display_name": "Python 3",
   "language": "python",
   "name": "python3"
  },
  "language_info": {
   "codemirror_mode": {
    "name": "ipython",
    "version": 3
   },
   "file_extension": ".py",
   "mimetype": "text/x-python",
   "name": "python",
   "nbconvert_exporter": "python",
   "pygments_lexer": "ipython3",
   "version": "3.7.3"
  }
 },
 "nbformat": 4,
 "nbformat_minor": 2
}

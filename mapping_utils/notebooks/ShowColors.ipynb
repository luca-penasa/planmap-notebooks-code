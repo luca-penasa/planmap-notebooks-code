{
 "cells": [
  {
   "cell_type": "code",
   "execution_count": 1,
   "metadata": {},
   "outputs": [
    {
     "name": "stdout",
     "output_type": "stream",
     "text": [
      "Populating the interactive namespace from numpy and matplotlib\n"
     ]
    }
   ],
   "source": [
    "%pylab inline\n",
    "import matplotlib.pyplot as plt\n",
    "import matplotlib._color_data as mcd\n",
    "import matplotlib.patches as mpatch"
   ]
  },
  {
   "cell_type": "code",
   "execution_count": 13,
   "metadata": {},
   "outputs": [
    {
     "name": "stderr",
     "output_type": "stream",
     "text": [
      "/usr/lib/python3.7/site-packages/ipykernel_launcher.py:3: FutureWarning: from_csv is deprecated. Please use read_csv(...) instead. Note that some of the default arguments are different, so please refer to the documentation for from_csv when changing your function calls\n",
      "  This is separate from the ipykernel package so we can avoid doing imports until\n"
     ]
    },
    {
     "data": {
      "image/png": "[encoded data removed]",
      "text/plain": [
       "<Figure size 36x432 with 1 Axes>"
      ]
     },
     "metadata": {
      "needs_background": "light"
     },
     "output_type": "display_data"
    }
   ],
   "source": [
    "tabfile = \"/home/luca/Documenti-local/notebooks.git/mapping/maptable_3_classes.csv\"\n",
    "import pandas as pd\n",
    "newtab = pd.DataFrame.from_csv(tabfile, sep=\",\", index_col=None )\n",
    "figure(figsize=[0.5, 6])\n",
    "\n",
    "ax = gca()\n",
    "red = newtab[ [\"Extended_Label\", \"R\",\"G\", \"B\"] ]\n",
    "\n",
    "\n",
    "\n",
    "for j, row in red.iterrows():\n",
    "    label, r,g,b =row.values\n",
    "    \n",
    "    col = np.array([r,g,b]) \n",
    "    col = col / 255.0\n",
    "    \n",
    "    \n",
    "    r1 = mpatch.Rectangle((0, j), 1, 1, color=col)\n",
    "    txt = ax.text(2, j+.5, '  ' + label, va='center', fontsize=10,        )\n",
    "    ax.add_patch(r1)\n",
    "    ax.axhline(j, color='k')"
   ]
  },
  {
   "cell_type": "code",
   "execution_count": null,
   "metadata": {},
   "outputs": [],
   "source": []
  },
  {
   "cell_type": "code",
   "execution_count": 2,
   "metadata": {},
   "outputs": [
    {
     "name": "stderr",
     "output_type": "stream",
     "text": [
      "/usr/lib/python3.7/site-packages/ipykernel_launcher.py:3: FutureWarning: from_csv is deprecated. Please use read_csv(...) instead. Note that some of the default arguments are different, so please refer to the documentation for from_csv when changing your function calls\n",
      "  This is separate from the ipykernel package so we can avoid doing imports until\n"
     ]
    }
   ],
   "source": []
  },
  {
   "cell_type": "code",
   "execution_count": 12,
   "metadata": {},
   "outputs": [
    {
     "data": {
      "text/html": [
       "<div>\n",
       "<style scoped>\n",
       "    .dataframe tbody tr th:only-of-type {\n",
       "        vertical-align: middle;\n",
       "    }\n",
       "\n",
       "    .dataframe tbody tr th {\n",
       "        vertical-align: top;\n",
       "    }\n",
       "\n",
       "    .dataframe thead th {\n",
       "        text-align: right;\n",
       "    }\n",
       "</style>\n",
       "<table border=\"1\" class=\"dataframe\">\n",
       "  <thead>\n",
       "    <tr style=\"text-align: right;\">\n",
       "      <th></th>\n",
       "      <th>Extended_Label</th>\n",
       "      <th>Geological</th>\n",
       "      <th>R</th>\n",
       "      <th>G</th>\n",
       "      <th>B</th>\n",
       "    </tr>\n",
       "  </thead>\n",
       "  <tbody>\n",
       "    <tr>\n",
       "      <th>0</th>\n",
       "      <td>Smooth Plains</td>\n",
       "      <td>sp</td>\n",
       "      <td>255</td>\n",
       "      <td>190</td>\n",
       "      <td>190</td>\n",
       "    </tr>\n",
       "    <tr>\n",
       "      <th>1</th>\n",
       "      <td>Intermediate Plains</td>\n",
       "      <td>imp</td>\n",
       "      <td>245</td>\n",
       "      <td>122</td>\n",
       "      <td>122</td>\n",
       "    </tr>\n",
       "    <tr>\n",
       "      <th>2</th>\n",
       "      <td>Intercrater Plains</td>\n",
       "      <td>icp</td>\n",
       "      <td>137</td>\n",
       "      <td>90</td>\n",
       "      <td>68</td>\n",
       "    </tr>\n",
       "    <tr>\n",
       "      <th>3</th>\n",
       "      <td>Crater material-pristine</td>\n",
       "      <td>c5</td>\n",
       "      <td>255</td>\n",
       "      <td>170</td>\n",
       "      <td>0</td>\n",
       "    </tr>\n",
       "    <tr>\n",
       "      <th>4</th>\n",
       "      <td>Crater material-well-preserved</td>\n",
       "      <td>c4</td>\n",
       "      <td>223</td>\n",
       "      <td>115</td>\n",
       "      <td>255</td>\n",
       "    </tr>\n",
       "    <tr>\n",
       "      <th>5</th>\n",
       "      <td>Crater material- somewhat degraded</td>\n",
       "      <td>c3</td>\n",
       "      <td>92</td>\n",
       "      <td>137</td>\n",
       "      <td>68</td>\n",
       "    </tr>\n",
       "    <tr>\n",
       "      <th>6</th>\n",
       "      <td>Crater material-quite degraded</td>\n",
       "      <td>c2</td>\n",
       "      <td>115</td>\n",
       "      <td>178</td>\n",
       "      <td>255</td>\n",
       "    </tr>\n",
       "    <tr>\n",
       "      <th>7</th>\n",
       "      <td>Crater material-heavily degraded</td>\n",
       "      <td>c1</td>\n",
       "      <td>190</td>\n",
       "      <td>210</td>\n",
       "      <td>255</td>\n",
       "    </tr>\n",
       "    <tr>\n",
       "      <th>8</th>\n",
       "      <td>Degraded catenae</td>\n",
       "      <td>dc</td>\n",
       "      <td>0</td>\n",
       "      <td>153</td>\n",
       "      <td>0</td>\n",
       "    </tr>\n",
       "    <tr>\n",
       "      <th>9</th>\n",
       "      <td>Crater floor material-smooth</td>\n",
       "      <td>cfs</td>\n",
       "      <td>255</td>\n",
       "      <td>255</td>\n",
       "      <td>175</td>\n",
       "    </tr>\n",
       "    <tr>\n",
       "      <th>10</th>\n",
       "      <td>Crater floor material-hummocky</td>\n",
       "      <td>cfh</td>\n",
       "      <td>205</td>\n",
       "      <td>170</td>\n",
       "      <td>102</td>\n",
       "    </tr>\n",
       "  </tbody>\n",
       "</table>\n",
       "</div>"
      ],
      "text/plain": [
       "                        Extended_Label Geological    R    G    B\n",
       "0                        Smooth Plains         sp  255  190  190\n",
       "1                  Intermediate Plains        imp  245  122  122\n",
       "2                   Intercrater Plains        icp  137   90   68\n",
       "3             Crater material-pristine         c5  255  170    0\n",
       "4       Crater material-well-preserved         c4  223  115  255\n",
       "5   Crater material- somewhat degraded         c3   92  137   68\n",
       "6       Crater material-quite degraded         c2  115  178  255\n",
       "7     Crater material-heavily degraded         c1  190  210  255\n",
       "8                     Degraded catenae         dc    0  153    0\n",
       "9         Crater floor material-smooth        cfs  255  255  175\n",
       "10      Crater floor material-hummocky        cfh  205  170  102"
      ]
     },
     "execution_count": 12,
     "metadata": {},
     "output_type": "execute_result"
    }
   ],
   "source": [
    "newtab"
   ]
  },
  {
   "cell_type": "code",
   "execution_count": null,
   "metadata": {},
   "outputs": [],
   "source": []
  }
 ],
 "metadata": {
  "kernelspec": {
   "display_name": "Python 3",
   "language": "python",
   "name": "python3"
  },
  "language_info": {
   "codemirror_mode": {
    "name": "ipython",
    "version": 3
   },
   "file_extension": ".py",
   "mimetype": "text/x-python",
   "name": "python",
   "nbconvert_exporter": "python",
   "pygments_lexer": "ipython3",
   "version": "3.7.3"
  }
 },
 "nbformat": 4,
 "nbformat_minor": 2
}

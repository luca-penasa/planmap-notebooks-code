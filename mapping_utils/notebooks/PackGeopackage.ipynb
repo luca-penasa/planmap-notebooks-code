{
 "cells": [
  {
   "cell_type": "markdown",
   "metadata": {},
   "source": [
    "https://gis.stackexchange.com/questions/15135/using-field-to-rgb-mapping-for-symbology-in-qgis"
   ]
  },
  {
   "cell_type": "code",
   "execution_count": 179,
   "metadata": {},
   "outputs": [
    {
     "name": "stdout",
     "output_type": "stream",
     "text": [
      "Populating the interactive namespace from numpy and matplotlib\n"
     ]
    }
   ],
   "source": [
    "%pylab inline\n",
    "import logging as log\n",
    "import os\n",
    "import attr\n",
    "log.getLogger().setLevel(log.INFO)"
   ]
  },
  {
   "cell_type": "code",
   "execution_count": 180,
   "metadata": {},
   "outputs": [
    {
     "name": "stderr",
     "output_type": "stream",
     "text": [
      "INFO:root:working on project PM-MER-MS-H05_3cc_01, output will be in /data/tmppkg3\n"
     ]
    }
   ],
   "source": [
    "infolder = \"/data/planmap/Planmap/DATA/mercury/PM-MER-MS-H05_3cc_01/\".strip()\n",
    "outfolder = \"/data/tmppkg3\"\n",
    "\n",
    "# projectname = PM-MER-MS-H05_3cc_01 # override here if needed\n",
    "projectname = os.path.basename(os.path.normpath(infolder))\n",
    "outfname = projectname +\".gpkg\"\n",
    "outfullpath = os.path.join(outfolder, outfname)\n",
    "\n",
    "log.info(f\"working on project {projectname}, output will be in {outfolder}\")\n",
    "\n",
    "    \n",
    "\n",
    "vectors_exts = [\"shp\"] # add more if needed\n",
    "rasters_exts = [\"tiff\", \"tif\"]\n",
    "documents_exts = [\"pdf\"]"
   ]
  },
  {
   "cell_type": "code",
   "execution_count": 181,
   "metadata": {},
   "outputs": [],
   "source": [
    "import glob\n",
    "def find_types(extensions, folder):\n",
    "    found = []\n",
    "    for vtype in extensions:\n",
    "        found.extend(glob.glob(folder + f\"/**/*.{vtype}\", recursive = True))\n",
    "        \n",
    "    return found"
   ]
  },
  {
   "cell_type": "code",
   "execution_count": 182,
   "metadata": {},
   "outputs": [
    {
     "name": "stderr",
     "output_type": "stream",
     "text": [
      "WARNING:root:removed from list /data/planmap/Planmap/DATA/mercury/PM-MER-MS-H05_3cc_01/vector/H05_geological_units/5_classes/H05_geological_units_5_classes.shp due to filter .*5_classes.*\n"
     ]
    }
   ],
   "source": [
    "shapefiles = find_types(vectors_exts, infolder)\n",
    "rasters = find_types(rasters_exts, infolder)\n",
    "pdfs = find_types(documents_exts, infolder)\n",
    "\n",
    "import regex\n",
    "def remove_filter_matches(fnames, filters=[\".*5_classes.*\"]):\n",
    "    out = []\n",
    "    for fname in fnames:\n",
    "        for filter in filters:\n",
    "            if not regex.match(filter, fname):\n",
    "                out.append(fname)\n",
    "            else:\n",
    "                log.warning(f\"removed from list {fname} due to filter {filter}\")\n",
    "                \n",
    "    return out\n",
    "    \n",
    "shapefiles = remove_filter_matches(shapefiles)"
   ]
  },
  {
   "cell_type": "code",
   "execution_count": null,
   "metadata": {},
   "outputs": [],
   "source": []
  },
  {
   "cell_type": "code",
   "execution_count": 183,
   "metadata": {},
   "outputs": [
    {
     "name": "stderr",
     "output_type": "stream",
     "text": [
      "INFO:root:found 6 vectors\n",
      "INFO:root:--> /data/planmap/Planmap/DATA/mercury/PM-MER-MS-H05_3cc_01/vector/H05_surface_features/H05_surface_features.shp\n",
      "INFO:root:--> /data/planmap/Planmap/DATA/mercury/PM-MER-MS-H05_3cc_01/vector/H05_linear_features/H05_linear_features.shp\n",
      "INFO:root:--> /data/planmap/Planmap/DATA/mercury/PM-MER-MS-H05_3cc_01/vector/H05_outline/H05_outline.shp\n",
      "INFO:root:--> /data/planmap/Planmap/DATA/mercury/PM-MER-MS-H05_3cc_01/vector/H05_geological_units/3_classes/H05_geological_units_3_classes.shp\n",
      "INFO:root:--> /data/planmap/Planmap/DATA/mercury/PM-MER-MS-H05_3cc_01/vector/H05_contacts/H05_contacts.shp\n",
      "INFO:root:--> /data/planmap/Planmap/DATA/mercury/PM-MER-MS-H05_3cc_01/vector/H05_nomenclature/H05_nomenclature.shp\n",
      "INFO:root:found 1 raster\n",
      "INFO:root:--> /data/planmap/Planmap/DATA/mercury/PM-MER-MS-H05_3cc_01/raster/PM-MER-MS-H05_3cc_01_basemap_mosaic.tif\n",
      "INFO:root:found 2 docs\n",
      "INFO:root:--> /data/planmap/Planmap/DATA/mercury/PM-MER-MS-H05_3cc_01/document/PM-MER-MS-H05_3cc_01_basemap.pdf\n",
      "INFO:root:--> /data/planmap/Planmap/DATA/mercury/PM-MER-MS-H05_3cc_01/document/PM-MER-MS-H05_3cc_01.pdf\n"
     ]
    }
   ],
   "source": [
    "log.info(f\"found {len(shapefiles)} vectors\")\n",
    "for v in shapefiles:\n",
    "    log.info(f\"--> {v}\")\n",
    "    \n",
    "log.info(f\"found {len(rasters)} raster\")\n",
    "for v in rasters:\n",
    "    log.info(f\"--> {v}\")\n",
    "    \n",
    "log.info(f\"found {len(pdfs)} docs\")\n",
    "for v in pdfs:\n",
    "    log.info(f\"--> {v}\")\n",
    "\n"
   ]
  },
  {
   "cell_type": "code",
   "execution_count": 184,
   "metadata": {},
   "outputs": [],
   "source": [
    "def get_required_output_dirs(outfolder):\n",
    "    outdirs = [outfolder]\n",
    "    if len(shapefiles) > 0:\n",
    "        outdirs.append(os.path.join(outfolder, \"vector\"))\n",
    "        \n",
    "    if len(rasters) > 0:\n",
    "        outdirs.append(os.path.join(outfolder, \"raster\"))\n",
    "        \n",
    "    if len(pdfs) > 0:\n",
    "        outdirs.append(os.path.join(outfolder, \"document\"))\n",
    "        \n",
    "    return outdirs\n",
    "        \n",
    "def create_paths(folders):\n",
    "    for f in folders:\n",
    "        os.makedirs(f, exist_ok=True)\n",
    "        "
   ]
  },
  {
   "cell_type": "code",
   "execution_count": 185,
   "metadata": {},
   "outputs": [],
   "source": [
    "flds = get_required_output_dirs(outfolder)\n",
    "create_paths(flds)"
   ]
  },
  {
   "cell_type": "code",
   "execution_count": 186,
   "metadata": {},
   "outputs": [],
   "source": [
    "from shutil import copyfile\n",
    "\n",
    "\n",
    "def copy_files_to_folder(files, folder):\n",
    "    for f in files:\n",
    "        fname = os.path.basename(f)\n",
    "        copyfile(f, os.path.join(folder, fname))\n",
    "    \n",
    "\n"
   ]
  },
  {
   "cell_type": "code",
   "execution_count": 187,
   "metadata": {},
   "outputs": [],
   "source": [
    "copy_files_to_folder(pdfs, os.path.join(outfolder, \"document\"))\n",
    "copy_files_to_folder(rasters, os.path.join(outfolder, \"raster\"))"
   ]
  },
  {
   "cell_type": "code",
   "execution_count": 188,
   "metadata": {},
   "outputs": [
    {
     "name": "stderr",
     "output_type": "stream",
     "text": [
      "INFO:root:/data/tmppkg3/vector/PM-MER-MS-H05_3cc_01.gpkg\n"
     ]
    }
   ],
   "source": [
    "# we now unify in a single geopackage all the data\n",
    "outgpkg = os.path.join(outfolder, \"vector\", outfname)\n",
    "log.info(outgpkg)"
   ]
  },
  {
   "cell_type": "code",
   "execution_count": 189,
   "metadata": {},
   "outputs": [],
   "source": [
    "def prepare_layer_name(fullname): # might want to personalize this\n",
    "    lname = os.path.basename(fullname)[:-4] # strip estension from basename\n",
    "    lname = lname[4:] # strip beginning\n",
    "    lname = lname.replace(\"_\", \" \")\n",
    "    lname = lname.title()\n",
    "#     lname = lname.replace(\" \", \"_\")\n",
    "    \n",
    "#     lname = ''.join(x for x in lname.title() if x != \"_\")\n",
    "    return lname"
   ]
  },
  {
   "cell_type": "code",
   "execution_count": 190,
   "metadata": {},
   "outputs": [
    {
     "name": "stderr",
     "output_type": "stream",
     "text": [
      "INFO:root:/data/planmap/Planmap/DATA/mercury/PM-MER-MS-H05_3cc_01/vector/H05_surface_features/H05_surface_features.shp,\n",
      "   --> layer_name : Surface Features\n",
      "INFO:fiona.ogrext:Failed to auto identify EPSG: 7\n",
      "INFO:root:/data/planmap/Planmap/DATA/mercury/PM-MER-MS-H05_3cc_01/vector/H05_linear_features/H05_linear_features.shp,\n",
      "   --> layer_name : Linear Features\n",
      "INFO:fiona.ogrext:Failed to auto identify EPSG: 7\n",
      "INFO:root:/data/planmap/Planmap/DATA/mercury/PM-MER-MS-H05_3cc_01/vector/H05_outline/H05_outline.shp,\n",
      "   --> layer_name : Outline\n",
      "INFO:fiona.ogrext:Failed to auto identify EPSG: 7\n",
      "INFO:root:/data/planmap/Planmap/DATA/mercury/PM-MER-MS-H05_3cc_01/vector/H05_geological_units/3_classes/H05_geological_units_3_classes.shp,\n",
      "   --> layer_name : Geological Units 3 Classes\n",
      "INFO:fiona.ogrext:Failed to auto identify EPSG: 7\n",
      "INFO:root:/data/planmap/Planmap/DATA/mercury/PM-MER-MS-H05_3cc_01/vector/H05_contacts/H05_contacts.shp,\n",
      "   --> layer_name : Contacts\n",
      "INFO:fiona.ogrext:Failed to auto identify EPSG: 7\n",
      "INFO:root:/data/planmap/Planmap/DATA/mercury/PM-MER-MS-H05_3cc_01/vector/H05_nomenclature/H05_nomenclature.shp,\n",
      "   --> layer_name : Nomenclature\n",
      "INFO:fiona.ogrext:Failed to auto identify EPSG: 7\n"
     ]
    }
   ],
   "source": [
    "import geopandas as gp\n",
    "# first we load the data\n",
    "\n",
    "tosave = {}\n",
    "for vector in shapefiles:\n",
    "    lname =prepare_layer_name(vector)\n",
    "    log.info(f\"{vector},\\n   --> layer_name : {lname}\")\n",
    "    table = gp.GeoDataFrame.from_file(vector)\n",
    "    tosave[lname] = table\n",
    "\n",
    "\n",
    "\n",
    "\n",
    "    "
   ]
  },
  {
   "cell_type": "code",
   "execution_count": null,
   "metadata": {},
   "outputs": [],
   "source": []
  },
  {
   "cell_type": "code",
   "execution_count": 191,
   "metadata": {},
   "outputs": [
    {
     "name": "stderr",
     "output_type": "stream",
     "text": [
      "INFO:root:['Polygon', 'LineString', 'LineString', 'Polygon', 'LineString', 'Point']\n"
     ]
    }
   ],
   "source": [
    "types = []\n",
    "\n",
    "for lanme, t in tosave.items():\n",
    "    types.append( t.geom_type[0] ) # we assume all features will be of similar type\n",
    "log.info(types)   \n",
    "\n"
   ]
  },
  {
   "cell_type": "code",
   "execution_count": 192,
   "metadata": {},
   "outputs": [
    {
     "data": {
      "text/plain": [
       "array([5, 1, 2, 4, 0, 3])"
      ]
     },
     "execution_count": 192,
     "metadata": {},
     "output_type": "execute_result"
    }
   ],
   "source": [
    "sort_pref = {\"Point\": 0, \"MultiPoint\":0, \"LineString\":10, \"Polygon\": 20}\n",
    "scores = [sort_pref[key] for key in types]\n",
    "scores\n",
    "\n",
    "\n",
    "sorting = np.argsort(scores)\n",
    "sorting"
   ]
  },
  {
   "cell_type": "code",
   "execution_count": 193,
   "metadata": {},
   "outputs": [
    {
     "name": "stderr",
     "output_type": "stream",
     "text": [
      "INFO:root:saving Nomenclature\n",
      "INFO:root:saving Linear Features\n",
      "INFO:root:saving Outline\n",
      "INFO:root:saving Contacts\n",
      "INFO:root:saving Surface Features\n",
      "INFO:root:saving Geological Units 3 Classes\n"
     ]
    }
   ],
   "source": [
    "alldata = list(tosave.items())\n",
    "\n",
    "for id in sorting:\n",
    "    lname = alldata[id][0]\n",
    "    table = alldata[id][1]\n",
    "    log.info(f\"saving {lname}\")\n",
    "    table.to_file(outgpkg, driver=\"GPKG\", layer=lname)"
   ]
  },
  {
   "cell_type": "markdown",
   "metadata": {},
   "source": [
    "# add checks on the total number of layers received as input to the actual geopackage"
   ]
  },
  {
   "cell_type": "code",
   "execution_count": 194,
   "metadata": {},
   "outputs": [
    {
     "name": "stderr",
     "output_type": "stream",
     "text": [
      "INFO:fiona.ogrext:Failed to auto identify EPSG: 7\n"
     ]
    }
   ],
   "source": [
    "tabfile = \"/home/luca/Documenti-local/notebooks.git/mapping/maptable_3_classes.csv\"\n",
    "layername = \"Geological Units 3 Classes\"\n",
    "table = gp.GeoDataFrame.from_file( outgpkg, layer=layername)\n",
    "table.Geological = table.Geological.str.strip()\n"
   ]
  },
  {
   "cell_type": "code",
   "execution_count": null,
   "metadata": {},
   "outputs": [],
   "source": []
  },
  {
   "cell_type": "code",
   "execution_count": 195,
   "metadata": {},
   "outputs": [
    {
     "name": "stderr",
     "output_type": "stream",
     "text": [
      "/usr/lib/python3.7/site-packages/ipykernel_launcher.py:2: FutureWarning: from_csv is deprecated. Please use read_csv(...) instead. Note that some of the default arguments are different, so please refer to the documentation for from_csv when changing your function calls\n",
      "  \n"
     ]
    },
    {
     "data": {
      "text/html": [
       "<div>\n",
       "<style scoped>\n",
       "    .dataframe tbody tr th:only-of-type {\n",
       "        vertical-align: middle;\n",
       "    }\n",
       "\n",
       "    .dataframe tbody tr th {\n",
       "        vertical-align: top;\n",
       "    }\n",
       "\n",
       "    .dataframe thead th {\n",
       "        text-align: right;\n",
       "    }\n",
       "</style>\n",
       "<table border=\"1\" class=\"dataframe\">\n",
       "  <thead>\n",
       "    <tr style=\"text-align: right;\">\n",
       "      <th></th>\n",
       "      <th>Extended_Label</th>\n",
       "      <th>Geological</th>\n",
       "      <th>R</th>\n",
       "      <th>G</th>\n",
       "      <th>B</th>\n",
       "    </tr>\n",
       "  </thead>\n",
       "  <tbody>\n",
       "    <tr>\n",
       "      <th>0</th>\n",
       "      <td>Smooth Plains</td>\n",
       "      <td>sp</td>\n",
       "      <td>255</td>\n",
       "      <td>190</td>\n",
       "      <td>190</td>\n",
       "    </tr>\n",
       "    <tr>\n",
       "      <th>1</th>\n",
       "      <td>Intermediate Plains</td>\n",
       "      <td>imp</td>\n",
       "      <td>245</td>\n",
       "      <td>122</td>\n",
       "      <td>122</td>\n",
       "    </tr>\n",
       "    <tr>\n",
       "      <th>2</th>\n",
       "      <td>Intercrater Plains</td>\n",
       "      <td>icp</td>\n",
       "      <td>137</td>\n",
       "      <td>90</td>\n",
       "      <td>68</td>\n",
       "    </tr>\n",
       "    <tr>\n",
       "      <th>3</th>\n",
       "      <td>Crater material-well preserved</td>\n",
       "      <td>c3</td>\n",
       "      <td>255</td>\n",
       "      <td>255</td>\n",
       "      <td>115</td>\n",
       "    </tr>\n",
       "    <tr>\n",
       "      <th>4</th>\n",
       "      <td>Crater material-degraded</td>\n",
       "      <td>c2</td>\n",
       "      <td>92</td>\n",
       "      <td>137</td>\n",
       "      <td>68</td>\n",
       "    </tr>\n",
       "    <tr>\n",
       "      <th>5</th>\n",
       "      <td>Crater material-heavily degraded</td>\n",
       "      <td>c1</td>\n",
       "      <td>115</td>\n",
       "      <td>0</td>\n",
       "      <td>0</td>\n",
       "    </tr>\n",
       "    <tr>\n",
       "      <th>6</th>\n",
       "      <td>Degraded catenae</td>\n",
       "      <td>dc</td>\n",
       "      <td>223</td>\n",
       "      <td>128</td>\n",
       "      <td>255</td>\n",
       "    </tr>\n",
       "    <tr>\n",
       "      <th>7</th>\n",
       "      <td>Crater floor material-smooth</td>\n",
       "      <td>cfs</td>\n",
       "      <td>255</td>\n",
       "      <td>255</td>\n",
       "      <td>175</td>\n",
       "    </tr>\n",
       "    <tr>\n",
       "      <th>8</th>\n",
       "      <td>Crater floor material-hummocky</td>\n",
       "      <td>cfh</td>\n",
       "      <td>205</td>\n",
       "      <td>170</td>\n",
       "      <td>102</td>\n",
       "    </tr>\n",
       "  </tbody>\n",
       "</table>\n",
       "</div>"
      ],
      "text/plain": [
       "                     Extended_Label Geological    R    G    B\n",
       "0                     Smooth Plains         sp  255  190  190\n",
       "1               Intermediate Plains        imp  245  122  122\n",
       "2                Intercrater Plains        icp  137   90   68\n",
       "3    Crater material-well preserved         c3  255  255  115\n",
       "4          Crater material-degraded         c2   92  137   68\n",
       "5  Crater material-heavily degraded         c1  115    0    0\n",
       "6                  Degraded catenae         dc  223  128  255\n",
       "7      Crater floor material-smooth        cfs  255  255  175\n",
       "8    Crater floor material-hummocky        cfh  205  170  102"
      ]
     },
     "execution_count": 195,
     "metadata": {},
     "output_type": "execute_result"
    }
   ],
   "source": [
    "import pandas as pd\n",
    "newtab = pd.DataFrame.from_csv(tabfile, sep=\",\", index_col=None )\n",
    "newtab.Geological = newtab[\"Geological\"].str.strip()\n",
    "newtab"
   ]
  },
  {
   "cell_type": "code",
   "execution_count": 196,
   "metadata": {},
   "outputs": [
    {
     "name": "stdout",
     "output_type": "stream",
     "text": [
      "c1 is ok\n",
      "c2 is ok\n",
      "c3 is ok\n",
      "cfh is ok\n",
      "cfs is ok\n",
      "dc is ok\n",
      "icp is ok\n",
      "imp is ok\n",
      "sp is ok\n"
     ]
    }
   ],
   "source": [
    "matchname = \"Geological\"\n",
    "\n",
    "tomatch = np.unique(table[matchname])\n",
    "testmatch = list(newtab[matchname])\n",
    "\n",
    "for m in tomatch:\n",
    "    if m not in testmatch:\n",
    "        print(f\"---> Check {m}\")\n",
    "    else:\n",
    "        print(f\"{m} is ok\")"
   ]
  },
  {
   "cell_type": "code",
   "execution_count": 197,
   "metadata": {},
   "outputs": [],
   "source": [
    "fulldata = pd.merge(   table, newtab, on=\"Geological\")\n",
    "fulldata\n",
    "# fulldata = geopandas.GeoDataFrame(fulldata)\n",
    "fulldata.drop(columns=[\"Join_Count\", \"TARGET_FID\"])\n",
    "\n",
    "fulldata.to_file(outgpkg, layer=layername, driver=\"GPKG\")\n"
   ]
  },
  {
   "cell_type": "code",
   "execution_count": null,
   "metadata": {},
   "outputs": [],
   "source": []
  },
  {
   "cell_type": "code",
   "execution_count": null,
   "metadata": {},
   "outputs": [],
   "source": [
    "table"
   ]
  },
  {
   "cell_type": "code",
   "execution_count": null,
   "metadata": {},
   "outputs": [],
   "source": [
    "newtab"
   ]
  },
  {
   "cell_type": "code",
   "execution_count": null,
   "metadata": {},
   "outputs": [],
   "source": [
    "pd.merge?a"
   ]
  },
  {
   "cell_type": "code",
   "execution_count": null,
   "metadata": {},
   "outputs": [],
   "source": [
    "table[matchname]\n",
    "newtab[matchname]"
   ]
  },
  {
   "cell_type": "code",
   "execution_count": null,
   "metadata": {},
   "outputs": [],
   "source": [
    "newtab[matchname]"
   ]
  },
  {
   "cell_type": "code",
   "execution_count": null,
   "metadata": {},
   "outputs": [],
   "source": [
    "newtab[\"Extended_Label\"]"
   ]
  },
  {
   "cell_type": "code",
   "execution_count": null,
   "metadata": {},
   "outputs": [],
   "source": [
    "newtab"
   ]
  },
  {
   "cell_type": "code",
   "execution_count": null,
   "metadata": {},
   "outputs": [],
   "source": []
  },
  {
   "cell_type": "code",
   "execution_count": null,
   "metadata": {},
   "outputs": [],
   "source": []
  }
 ],
 "metadata": {
  "kernelspec": {
   "display_name": "Python 3",
   "language": "python",
   "name": "python3"
  },
  "language_info": {
   "codemirror_mode": {
    "name": "ipython",
    "version": 3
   },
   "file_extension": ".py",
   "mimetype": "text/x-python",
   "name": "python",
   "nbconvert_exporter": "python",
   "pygments_lexer": "ipython3",
   "version": "3.7.3"
  }
 },
 "nbformat": 4,
 "nbformat_minor": 2
}

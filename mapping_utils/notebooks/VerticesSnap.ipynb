{
 "cells": [
  {
   "cell_type": "markdown",
   "metadata": {},
   "source": [
    "# inverse operation of polygonize"
   ]
  },
  {
   "cell_type": "code",
   "execution_count": 1,
   "metadata": {},
   "outputs": [
    {
     "name": "stdout",
     "output_type": "stream",
     "text": [
      "Populating the interactive namespace from numpy and matplotlib\n"
     ]
    }
   ],
   "source": [
    "%pylab inline\n",
    "import geopandas as gpd\n",
    "import logging as log\n",
    "import fiona, shapely\n",
    "from shapely.geometry import LineString, MultiPolygon\n",
    "from shapely.ops import polygonize\n",
    "from slib import *\n",
    "import geopandas\n",
    "log.getLogger().setLevel(log.INFO)\n",
    "\n",
    "mpl.rcParams['figure.figsize'] = [12, 12.0]\n",
    "\n",
    "\n",
    "\n",
    "# here are a vector layer with points. each points need to have a field with an unique id for each geological unit\n",
    "unit_uuid_name = \"Unit_Code\" # the name of the field to use to populate the map.\n",
    "layer_name = \"Apl_Strat_full\"\n",
    "layer_name = \"subregion_fixed\"\n",
    "# layer_name = \"cleaned\"\n",
    "\n",
    "# output data - geopackage\n",
    "inputfname = \"/data/SciDataHub/projects/map_validation/PM-MOO-MS-SPAApollo_01.gpkg\"\n",
    "# inputfname = \"/home/luca/vertices_snapped.gpkg\"\n",
    "\n",
    "# dist = 1.0 # extend of 1 meters all the extreme segments of contacts - needed to ensure proper intersections\n"
   ]
  },
  {
   "cell_type": "code",
   "execution_count": 2,
   "metadata": {},
   "outputs": [],
   "source": [
    "startmap = geopandas.GeoDataFrame.from_file(inputfname,layer=layer_name)\n",
    "startmap.to_file(\"/home/luca/vertices_snapped.gpkg\", driver=\"GPKG\", layer=\"input\")"
   ]
  },
  {
   "cell_type": "code",
   "execution_count": 3,
   "metadata": {},
   "outputs": [],
   "source": [
    "t= 0.1\n",
    "geom = startmap.geometry\n",
    "sgeom = [g.simplify(t) for g in geom]\n",
    "startmap.geometry = geom\n",
    "\n",
    "startmap.to_file(\"/home/luca/vertices_snapped.gpkg\", driver=\"GPKG\", layer=\"input_simplified\")"
   ]
  },
  {
   "cell_type": "code",
   "execution_count": 4,
   "metadata": {},
   "outputs": [],
   "source": [
    "from shapely.geometry import LineString\n",
    "from shapely.ops import nearest_points\n"
   ]
  },
  {
   "cell_type": "code",
   "execution_count": 5,
   "metadata": {},
   "outputs": [],
   "source": [
    "class EdgeWrapper:\n",
    "    def __init__(self, point1, point2):\n",
    "        assert(isinstance(point1, PointWrapper))\n",
    "        assert(isinstance(point2, PointWrapper))\n",
    "        self.p1 = point1\n",
    "        self.p2 = point2\n",
    "        self.updateGeom()\n",
    "        self.enlisted_points = []\n",
    "\n",
    "        \n",
    "        \n",
    "    def getVertices(self):\n",
    "        return np.row_stack([self.p1.getPoint(), self.p2.getPoint()])\n",
    "    \n",
    "    def updateGeom(self):\n",
    "        self._geom = LineString(self.getVertices())\n",
    "    \n",
    "    def asGeom(self):\n",
    "        return self._geom\n",
    "    \n",
    "    def enlistPointForAddition(self, point):\n",
    "        if point not in self.enlisted_points:\n",
    "            self.enlisted_points.append(point)\n",
    "            \n",
    "    \n",
    "        \n",
    "    \n",
    "\n",
    "    \n",
    "        \n",
    "\n",
    "class PointListWrapper:\n",
    "    def __init__(self, line):\n",
    "        self.geom = line\n",
    "        self.points = np.array(line)\n",
    "        self.pointset = []\n",
    "        self.edgeset = []\n",
    "        self.update()\n",
    "        \n",
    "    def updatePointSet(self):\n",
    "        self.pointset = []\n",
    "        for i, point in enumerate(self.points):\n",
    "            self.pointset.append(PointWrapper(self, i))\n",
    "            \n",
    "    def updateEdgeSet(self):\n",
    "        self.edgeset = []\n",
    "        pts = self.pointset\n",
    "        for p1, p2 in zip(pts, pts[1:] + [pts[0]]):\n",
    "            self.edgeset.append(EdgeWrapper(p1, p2))\n",
    "            \n",
    "    def update(self):\n",
    "        self.updatePointSet()\n",
    "        self.updateEdgeSet()\n",
    "        \n",
    "        \n",
    "    def setPoint(self, pid, point):\n",
    "        self.points[pid] = point\n",
    "                \n",
    "            \n",
    "\n",
    "class PointWrapper:\n",
    "    def __init__(self, parent, pid):\n",
    "        assert(isinstance(parent, PointListWrapper))\n",
    "        self.id = pid\n",
    "        self.parent = parent\n",
    "        \n",
    "    def getPoint(self):\n",
    "        return self.parent.points[self.id]\n",
    "    \n",
    "    def setPoint(self, point):\n",
    "        self.parent.setPoint(self.id, point) \n",
    "        \n",
    "    def asGeom(self):\n",
    "        return shapely.geometry.Point(self.getPoint())\n",
    "\n",
    "class PolygonWrapper:\n",
    "    def __init__(self, geom):\n",
    "        assert(isinstance(geom, Polygon))\n",
    "        self.geom = geom # keep a ref to the old geom\n",
    "        self.holes = [PointListWrapper(a) for a in geom.interiors]\n",
    "        self.boundary = PointListWrapper(geom.exterior)\n",
    "        \n",
    "    def getAllPoints(self):\n",
    "        out = []\n",
    "        out += self.boundary.pointset\n",
    "        for a in self.holes:\n",
    "            out += a.pointset\n",
    "        return out\n",
    "    \n",
    "    \n",
    "    def getAllEdges(self):\n",
    "        out = []\n",
    "        out += self.boundary.edgeset\n",
    "        for a in self.holes:\n",
    "            out += a.edgeset\n",
    "        return out\n",
    "    \n",
    "    def hasHoles(self):\n",
    "        return len(self.holes) != 0\n",
    "    \n",
    "    def rebuildGeometry(self):\n",
    "        return Polygon(self.boundary.points, [a.points for a in self.holes])\n",
    "\n",
    "class MultiPolygonWrapper:\n",
    "    def __init__(self, geom):\n",
    "        assert(isinstance(geom, MultiPolygon))\n",
    "        self.geom = geom\n",
    "        self.polygons = [PolygonWrapper(w) for w in geom]\n",
    "        \n",
    "    def getAllPoints(self):\n",
    "        out = []\n",
    "        for p in self.polygons:\n",
    "            out += p.getAllPoints()\n",
    "        return out\n",
    "    \n",
    "    def getAllEdges(self):\n",
    "        out = []\n",
    "        for p in self.polygons:\n",
    "            out += p.getAllEdges()\n",
    "        return out\n",
    "    \n",
    "    def rebuildGeometry(self):\n",
    "        return MultiPolygon([p.rebuildGeometry() for p in self.polygons])\n",
    "        \n",
    "def wrap(geoms):\n",
    "    out = []\n",
    "    for g in geoms:\n",
    "        if isinstance(g, Polygon):\n",
    "            out.append(PolygonWrapper(g))\n",
    "        elif isinstance(g, MultiPolygon):\n",
    "            out.append(MultiPolygonWrapper(g))\n",
    "        else:\n",
    "            log.error(\"not implemented case\")\n",
    "            \n",
    "    return out\n",
    "            \n",
    "    \n",
    "    \n",
    "        \n",
    "wrapped = wrap(startmap.geometry)    \n",
    "\n",
    "allpts = []\n",
    "for w in wrapped:\n",
    "    allpts+= w.getAllPoints()\n",
    "    \n",
    "alledges = []\n",
    "for w in wrapped:\n",
    "    alledges+= w.getAllEdges()\n",
    "\n",
    "\n",
    "points = np.row_stack([p.getPoint() for p in allpts])\n"
   ]
  },
  {
   "cell_type": "markdown",
   "metadata": {},
   "source": [
    "# EDGES"
   ]
  },
  {
   "cell_type": "code",
   "execution_count": 6,
   "metadata": {},
   "outputs": [],
   "source": [
    "threshold=10\n",
    "orphan_pts= np.arange(len(allpts))"
   ]
  },
  {
   "cell_type": "code",
   "execution_count": 7,
   "metadata": {},
   "outputs": [],
   "source": [
    "edges = []\n",
    "for e in alledges:\n",
    "    e.updateGeom()\n",
    "    g = e.asGeom()\n",
    "    g.wrapper = e\n",
    "    edges.append(g)\n",
    "\n",
    "from shapely.strtree import STRtree\n",
    "tree= STRtree(edges)"
   ]
  },
  {
   "cell_type": "code",
   "execution_count": 8,
   "metadata": {},
   "outputs": [],
   "source": [
    "points_to_add = []\n",
    "added_points = []\n",
    "for orphanid in orphan_pts:\n",
    "    pt = allpts[orphanid]\n",
    "    qpt = pt.asGeom()\n",
    "    \n",
    "    candidates = tree.query(qpt)\n",
    "    \n",
    "    for c in candidates:\n",
    "        di = c.distance(qpt)\n",
    "        \n",
    "        if di > threshold:\n",
    "            continue\n",
    "            \n",
    "        if di < 1e-16: # machine precision\n",
    "            continue\n",
    "            \n",
    "        if (c.wrapper.p1 == pt) or  (c.wrapper.p2 == pt):\n",
    "            log.debug(\"point is in this edge\")\n",
    "            continue\n",
    "            \n",
    "        edgewrapper = c.wrapper\n",
    "        addpoint = allpts[orphanid].getPoint()\n",
    "        \n",
    "        line =  edgewrapper._geom\n",
    "\n",
    "        proj_pt = line.interpolate(line.project( Point(addpoint)))\n",
    "        \n",
    "        dd = proj_pt.distance(line)\n",
    "        if dd > 1e-6:\n",
    "            log.warning(f\"problem distance is {dd}\")\n",
    "            \n",
    "        # Now combine with interpolated point on line\n",
    "        proj_pt = np.array(proj_pt)\n",
    "        \n",
    "        \n",
    "#         proj_pt = np.array(nearest_points(edgewrapper._geom, Point(point))[0])\n",
    "        added_points.append(proj_pt)\n",
    "        \n",
    "        points_to_add.append([edgewrapper, proj_pt])\n",
    "       \n",
    "        \n",
    "        edgewrapper.enlistPointForAddition(pt.getPoint().tolist())\n",
    "        "
   ]
  },
  {
   "cell_type": "code",
   "execution_count": 9,
   "metadata": {},
   "outputs": [],
   "source": [
    "o = []\n",
    "\n",
    "\n",
    "for edge in alledges:\n",
    "    if len(edge.enlisted_points) > 0:\n",
    "        distances = [edge.asGeom().project(Point(p)) for p in edge.enlisted_points]\n",
    "        sorting_ids = np.argsort(distances)\n",
    "        \n",
    "        ordered = np.array(edge.enlisted_points)[sorting_ids]\n",
    "        n = len(ordered)\n",
    "        \n",
    "        \n",
    "        \n",
    "        \n",
    "        \n",
    "        edge.p1.parent.points = np.insert(edge.p1.parent.points, edge.p2.id, ordered, axis=0)\n",
    "        \n",
    "        pointset = edge.p1.parent.pointset\n",
    "        for pp in pointset[edge.p1.id+1:]:\n",
    "            pp.id += n\n",
    "        \n",
    "        \n",
    "        \n",
    "        \n",
    "        o.append(edge)\n",
    "\n",
    "        \n",
    "asGdf([ee.asGeom() for ee in o]).to_file(\"/home/luca/vertices_snapped.gpkg\", driver=\"GPKG\", layer=\"interested_edges\")   "
   ]
  },
  {
   "cell_type": "code",
   "execution_count": 10,
   "metadata": {},
   "outputs": [],
   "source": [
    "newg = [p.rebuildGeometry() for p in wrapped]\n",
    "startmap.geometry = newg\n",
    "\n",
    "startmap.to_file(\"/home/luca/vertices_snapped.gpkg\", driver=\"GPKG\", layer=\"after_fixing_edges\")"
   ]
  },
  {
   "cell_type": "markdown",
   "metadata": {},
   "source": [
    "# EDGES DONE"
   ]
  },
  {
   "cell_type": "code",
   "execution_count": null,
   "metadata": {},
   "outputs": [],
   "source": []
  },
  {
   "cell_type": "code",
   "execution_count": 11,
   "metadata": {},
   "outputs": [],
   "source": [
    "def remove_true_equals(points, idp1, idpts):\n",
    "    p1 = points[idp1].getPoint()\n",
    "    out = []\n",
    "    for id2 in idpts:\n",
    "        p2 = points[id2].getPoint()\n",
    "        \n",
    "        if np.linalg.norm(p1-p2) > 1e-16: # comparing to machine precision\n",
    "            out.append(id2)\n",
    "            \n",
    "    return out"
   ]
  },
  {
   "cell_type": "code",
   "execution_count": null,
   "metadata": {},
   "outputs": [],
   "source": []
  },
  {
   "cell_type": "code",
   "execution_count": 12,
   "metadata": {},
   "outputs": [],
   "source": [
    "from scipy.spatial import cKDTree\n",
    "\n",
    "\n",
    "\n",
    "\n",
    "\n",
    "tree = cKDTree(points)\n",
    "\n",
    "equal_pts = []\n",
    "orphan_pts = []\n",
    "\n",
    "for id, point in enumerate(points):\n",
    "    found = tree.query_ball_point(point, threshold)\n",
    "    \n",
    "    found.remove(id)\n",
    "    \n",
    "    if len(found) == 0:\n",
    "        # the point seems to not have any correspondence, but might be placed on an edge of another polygon\n",
    "        # keep it for later analysis\n",
    "        orphan_pts.append(id)\n",
    "        continue\n",
    "    \n",
    "#     found = remove_true_equals(allpts, id, found)\n",
    "        \n",
    "    if len(found) > 0:\n",
    "        equal_pts.append(sort([id]+found).tolist())\n",
    "        orphan_pts.append(id)\n",
    "        "
   ]
  },
  {
   "cell_type": "code",
   "execution_count": 13,
   "metadata": {},
   "outputs": [
    {
     "data": {
      "text/plain": [
       "26225"
      ]
     },
     "execution_count": 13,
     "metadata": {},
     "output_type": "execute_result"
    }
   ],
   "source": [
    "len(orphan_pts)"
   ]
  },
  {
   "cell_type": "code",
   "execution_count": 14,
   "metadata": {},
   "outputs": [],
   "source": [
    "equal_pts\n",
    "snapped = []\n",
    "snapped_n = []\n",
    "# from scipy.spatial import cKDTree\n",
    "\n",
    "# tree = cKDTree(pts)\n",
    "tofix = np.unique(sort(equal_pts)).tolist()\n",
    "for fix in equal_pts:\n",
    "    pts = np.row_stack([p.getPoint() for p in [allpts[id] for id in fix]])\n",
    "    avg = np.mean(pts, axis=0)\n",
    "    for id in fix:\n",
    "        allpts[id].setPoint(avg)\n",
    "        \n",
    "    snapped.append(avg)\n",
    "    snapped_n.append(len(fix))\n",
    "    "
   ]
  },
  {
   "cell_type": "code",
   "execution_count": 15,
   "metadata": {},
   "outputs": [],
   "source": [
    "\n",
    "\n",
    "newg = [Point(p) for p in snapped]\n",
    "numbers = np.array(snapped_n)\n",
    "\n",
    "assert(len(newg) == len(numbers))\n",
    "\n",
    "df = asGdf(newg)\n",
    "\n",
    "df.geometry = newg\n",
    "df[\"sizes\"] = numbers\n",
    "\n",
    "df.to_file(\"/home/luca/vertices_snapped.gpkg\", driver=\"GPKG\", layer=\"point_snapping\")"
   ]
  },
  {
   "cell_type": "code",
   "execution_count": 16,
   "metadata": {},
   "outputs": [
    {
     "data": {
      "text/html": [
       "<div>\n",
       "<style scoped>\n",
       "    .dataframe tbody tr th:only-of-type {\n",
       "        vertical-align: middle;\n",
       "    }\n",
       "\n",
       "    .dataframe tbody tr th {\n",
       "        vertical-align: top;\n",
       "    }\n",
       "\n",
       "    .dataframe thead th {\n",
       "        text-align: right;\n",
       "    }\n",
       "</style>\n",
       "<table border=\"1\" class=\"dataframe\">\n",
       "  <thead>\n",
       "    <tr style=\"text-align: right;\">\n",
       "      <th></th>\n",
       "      <th>geometry</th>\n",
       "      <th>sizes</th>\n",
       "    </tr>\n",
       "  </thead>\n",
       "  <tbody>\n",
       "    <tr>\n",
       "      <td>0</td>\n",
       "      <td>POINT (187823.779 -47195.496)</td>\n",
       "      <td>3</td>\n",
       "    </tr>\n",
       "    <tr>\n",
       "      <td>1</td>\n",
       "      <td>POINT (189418.615 -47518.895)</td>\n",
       "      <td>2</td>\n",
       "    </tr>\n",
       "    <tr>\n",
       "      <td>2</td>\n",
       "      <td>POINT (190067.542 -48365.876)</td>\n",
       "      <td>2</td>\n",
       "    </tr>\n",
       "    <tr>\n",
       "      <td>3</td>\n",
       "      <td>POINT (190425.046 -49853.460)</td>\n",
       "      <td>2</td>\n",
       "    </tr>\n",
       "    <tr>\n",
       "      <td>4</td>\n",
       "      <td>POINT (191937.223 -50835.592)</td>\n",
       "      <td>2</td>\n",
       "    </tr>\n",
       "    <tr>\n",
       "      <td>...</td>\n",
       "      <td>...</td>\n",
       "      <td>...</td>\n",
       "    </tr>\n",
       "    <tr>\n",
       "      <td>26028</td>\n",
       "      <td>POINT (98205.832 333200.279)</td>\n",
       "      <td>2</td>\n",
       "    </tr>\n",
       "    <tr>\n",
       "      <td>26029</td>\n",
       "      <td>POINT (98746.818 334505.577)</td>\n",
       "      <td>2</td>\n",
       "    </tr>\n",
       "    <tr>\n",
       "      <td>26030</td>\n",
       "      <td>POINT (98787.642 336101.124)</td>\n",
       "      <td>2</td>\n",
       "    </tr>\n",
       "    <tr>\n",
       "      <td>26031</td>\n",
       "      <td>POINT (98892.954 337382.540)</td>\n",
       "      <td>2</td>\n",
       "    </tr>\n",
       "    <tr>\n",
       "      <td>26032</td>\n",
       "      <td>POINT (99059.489 337755.464)</td>\n",
       "      <td>3</td>\n",
       "    </tr>\n",
       "  </tbody>\n",
       "</table>\n",
       "<p>26033 rows × 2 columns</p>\n",
       "</div>"
      ],
      "text/plain": [
       "                            geometry  sizes\n",
       "0      POINT (187823.779 -47195.496)      3\n",
       "1      POINT (189418.615 -47518.895)      2\n",
       "2      POINT (190067.542 -48365.876)      2\n",
       "3      POINT (190425.046 -49853.460)      2\n",
       "4      POINT (191937.223 -50835.592)      2\n",
       "...                              ...    ...\n",
       "26028   POINT (98205.832 333200.279)      2\n",
       "26029   POINT (98746.818 334505.577)      2\n",
       "26030   POINT (98787.642 336101.124)      2\n",
       "26031   POINT (98892.954 337382.540)      2\n",
       "26032   POINT (99059.489 337755.464)      3\n",
       "\n",
       "[26033 rows x 2 columns]"
      ]
     },
     "execution_count": 16,
     "metadata": {},
     "output_type": "execute_result"
    }
   ],
   "source": [
    "df"
   ]
  },
  {
   "cell_type": "code",
   "execution_count": null,
   "metadata": {},
   "outputs": [],
   "source": []
  },
  {
   "cell_type": "code",
   "execution_count": null,
   "metadata": {},
   "outputs": [],
   "source": []
  },
  {
   "cell_type": "markdown",
   "metadata": {},
   "source": [
    "# working on edges snap"
   ]
  },
  {
   "cell_type": "code",
   "execution_count": 17,
   "metadata": {},
   "outputs": [],
   "source": [
    "edges = []\n",
    "for e in alledges:\n",
    "    e.updateGeom()\n",
    "    g = e.asGeom()\n",
    "    g.wrapper = e\n",
    "    edges.append(g)\n",
    "\n",
    "from shapely.strtree import STRtree\n",
    "tree= STRtree(edges)"
   ]
  },
  {
   "cell_type": "code",
   "execution_count": 18,
   "metadata": {},
   "outputs": [],
   "source": [
    "points_to_add = []\n",
    "added_points = []\n",
    "for orphanid in orphan_pts:\n",
    "    pt = allpts[orphanid]\n",
    "    qpt = pt.asGeom()\n",
    "    \n",
    "    candidates = tree.query(qpt)\n",
    "    \n",
    "    for c in candidates:\n",
    "        di = c.distance(qpt)\n",
    "        \n",
    "        if di > threshold:\n",
    "            continue\n",
    "            \n",
    "        if di < 1e-16: # machine precision\n",
    "            continue\n",
    "            \n",
    "        if (c.wrapper.p1 == pt) or  (c.wrapper.p2 == pt):\n",
    "            log.debug(\"point is in this edge\")\n",
    "            continue\n",
    "            \n",
    "        edgewrapper = c.wrapper\n",
    "        addpoint = allpts[orphanid].getPoint()\n",
    "        \n",
    "        line =  edgewrapper._geom\n",
    "\n",
    "        proj_pt = line.interpolate(line.project( Point(addpoint)))\n",
    "        \n",
    "        dd = proj_pt.distance(line)\n",
    "        if dd > 1e-6:\n",
    "            log.warning(f\"problem distance is {dd}\")\n",
    "            \n",
    "        # Now combine with interpolated point on line\n",
    "        proj_pt = np.array(proj_pt)\n",
    "        \n",
    "        \n",
    "#         proj_pt = np.array(nearest_points(edgewrapper._geom, Point(point))[0])\n",
    "        added_points.append(proj_pt)\n",
    "        \n",
    "        points_to_add.append([edgewrapper, proj_pt])\n",
    "       \n",
    "        \n",
    "        edgewrapper.enlistPointForAddition(pt.getPoint().tolist())\n",
    "        \n"
   ]
  },
  {
   "cell_type": "code",
   "execution_count": 19,
   "metadata": {},
   "outputs": [],
   "source": [
    "# a = np.random.randn(10,2)\n",
    "# print(a)\n",
    "\n",
    "# b =np.eye(2)\n",
    "# print(b)\n",
    "\n",
    "# np.insert(a, 3, b, axis=0)"
   ]
  },
  {
   "cell_type": "code",
   "execution_count": 20,
   "metadata": {},
   "outputs": [],
   "source": [
    "o = []\n",
    "\n",
    "\n",
    "for edge in alledges:\n",
    "    if len(edge.enlisted_points) > 0:\n",
    "        distances = [edge.asGeom().project(Point(p)) for p in edge.enlisted_points]\n",
    "        sorting_ids = np.argsort(distances)\n",
    "        \n",
    "        ordered = np.array(edge.enlisted_points)[sorting_ids]\n",
    "        n = len(ordered)\n",
    "        \n",
    "        \n",
    "        \n",
    "        \n",
    "        \n",
    "        edge.p1.parent.points = np.insert(edge.p1.parent.points, edge.p2.id, ordered, axis=0)\n",
    "        \n",
    "        pointset = edge.p1.parent.pointset\n",
    "        for pp in pointset[edge.p1.id+1:]:\n",
    "            pp.id += n\n",
    "        \n",
    "        \n",
    "        \n",
    "        \n",
    "        o.append(edge)\n",
    "\n",
    "        \n",
    "asGdf([ee.asGeom() for ee in o]).to_file(\"/home/luca/vertices_snapped.gpkg\", driver=\"GPKG\", layer=\"interested_edges\")        "
   ]
  },
  {
   "cell_type": "code",
   "execution_count": 21,
   "metadata": {},
   "outputs": [],
   "source": [
    "# o = []\n",
    "# p = []\n",
    "# for e,a in points_to_add:\n",
    "#     a = a.tolist()\n",
    "#     if e not in o:\n",
    "#         o.append(e)\n",
    "#         p.append([a])\n",
    "        \n",
    "#     else:\n",
    "#         id = o.index(e)\n",
    "#         if a not in p[id]:\n",
    "#             p[id].append(a)\n",
    "        \n",
    "# for edge, points in zip(o, p):\n",
    "#     for po in points:\n",
    "#         edge.insertPointOnLine(po)"
   ]
  },
  {
   "cell_type": "code",
   "execution_count": 22,
   "metadata": {},
   "outputs": [],
   "source": [
    "# pots = [Point(po) for po in np.concatenate(p)]\n",
    "# asGdf(pots).to_file(\"/home/luca/vertices_snapped.gpkg\", driver=\"GPKG\", layer=\"to_be_added\")"
   ]
  },
  {
   "cell_type": "code",
   "execution_count": 23,
   "metadata": {},
   "outputs": [],
   "source": [
    "# asGdf([ee.asGeom() for ee in o]).to_file(\"/home/luca/vertices_snapped.gpkg\", driver=\"GPKG\", layer=\"interested_edges\")"
   ]
  },
  {
   "cell_type": "code",
   "execution_count": 24,
   "metadata": {},
   "outputs": [],
   "source": [
    "# asGdf(np.concatenate(p).tolist())"
   ]
  },
  {
   "cell_type": "code",
   "execution_count": 25,
   "metadata": {},
   "outputs": [],
   "source": [
    "# for edge, pt in points_to_add:\n",
    "#     edge.insertPointOnLine(pt)"
   ]
  },
  {
   "cell_type": "code",
   "execution_count": 26,
   "metadata": {},
   "outputs": [],
   "source": [
    "newg = [p.rebuildGeometry().simplify(t) for p in wrapped]\n",
    "startmap.geometry = newg\n",
    "\n",
    "startmap.to_file(\"/home/luca/vertices_snapped.gpkg\", driver=\"GPKG\", layer=\"cleaned\")"
   ]
  },
  {
   "cell_type": "code",
   "execution_count": null,
   "metadata": {},
   "outputs": [],
   "source": []
  },
  {
   "cell_type": "code",
   "execution_count": 27,
   "metadata": {},
   "outputs": [],
   "source": [
    "ppp = np.array(added_points)\n",
    "pp = [Point(p) for p in ppp]"
   ]
  },
  {
   "cell_type": "code",
   "execution_count": 28,
   "metadata": {},
   "outputs": [],
   "source": [
    "asGdf(pp).to_file(\"/home/luca/vertices_snapped.gpkg\", driver=\"GPKG\", layer=\"added\")"
   ]
  },
  {
   "cell_type": "code",
   "execution_count": null,
   "metadata": {},
   "outputs": [],
   "source": []
  },
  {
   "cell_type": "code",
   "execution_count": 29,
   "metadata": {},
   "outputs": [],
   "source": [
    "considered = []\n",
    "for orphanid in orphan_pts:\n",
    "    qpt = allpts[orphanid].asGeom()\n",
    "    considered.append(qpt)\n",
    "    "
   ]
  },
  {
   "cell_type": "code",
   "execution_count": 30,
   "metadata": {},
   "outputs": [],
   "source": [
    "asGdf(considered).to_file(\"/home/luca/vertices_snapped.gpkg\", driver=\"GPKG\", layer=\"considered\")"
   ]
  },
  {
   "cell_type": "code",
   "execution_count": 31,
   "metadata": {},
   "outputs": [],
   "source": [
    "from shapely.ops import unary_union"
   ]
  },
  {
   "cell_type": "code",
   "execution_count": null,
   "metadata": {},
   "outputs": [],
   "source": []
  },
  {
   "cell_type": "code",
   "execution_count": 32,
   "metadata": {},
   "outputs": [],
   "source": [
    "for g in startmap.geometry.buffer(0):\n",
    "    if g.is_valid is False:\n",
    "        log.warning(\"is fucking none\")"
   ]
  },
  {
   "cell_type": "code",
   "execution_count": 33,
   "metadata": {},
   "outputs": [],
   "source": [
    "asGdf([unary_union(startmap.geometry.buffer(0))]).to_file(\"/home/luca/vertices_snapped.gpkg\", driver=\"GPKG\", layer=\"singlepoly\")"
   ]
  },
  {
   "cell_type": "code",
   "execution_count": null,
   "metadata": {},
   "outputs": [],
   "source": []
  }
 ],
 "metadata": {
  "kernelspec": {
   "display_name": "Python 3",
   "language": "python",
   "name": "python3"
  },
  "language_info": {
   "codemirror_mode": {
    "name": "ipython",
    "version": 3
   },
   "file_extension": ".py",
   "mimetype": "text/x-python",
   "name": "python",
   "nbconvert_exporter": "python",
   "pygments_lexer": "ipython3",
   "version": "3.7.4"
  }
 },
 "nbformat": 4,
 "nbformat_minor": 4
}

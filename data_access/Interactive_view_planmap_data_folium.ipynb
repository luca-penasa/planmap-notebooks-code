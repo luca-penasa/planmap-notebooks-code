{
 "cells": [
  {
   "cell_type": "code",
   "execution_count": 23,
   "metadata": {},
   "outputs": [
    {
     "name": "stdout",
     "output_type": "stream",
     "text": [
      "Populating the interactive namespace from numpy and matplotlib\n"
     ]
    },
    {
     "name": "stderr",
     "output_type": "stream",
     "text": [
      "/usr/lib/python3.7/site-packages/IPython/core/magics/pylab.py:160: UserWarning: pylab import has clobbered these variables: ['log']\n",
      "`%matplotlib` prevents importing * from pylab and numpy\n",
      "  \"\\n`%matplotlib` prevents importing * from pylab and numpy\"\n"
     ]
    }
   ],
   "source": [
    "%pylab inline\n",
    "import folium"
   ]
  },
  {
   "cell_type": "markdown",
   "metadata": {},
   "source": [
    "This notebook shows how to merge planmap's wms-services with external wms. in this example we load a 5-classes geological map of Hokusai quadrangle together with data provided by https://planetarymaps.usgs.gov. Available layers here: https://astrowebmaps.wr.usgs.gov/webmapatlas/Layers/maps.html"
   ]
  },
  {
   "cell_type": "code",
   "execution_count": 24,
   "metadata": {},
   "outputs": [],
   "source": [
    "from owslib import wfs\n",
    "PLANMAP = 'https://geoserver.planmap.eu'\n",
    "PLANMAP_WMS = PLANMAP + '/wms'"
   ]
  },
  {
   "cell_type": "code",
   "execution_count": 25,
   "metadata": {},
   "outputs": [],
   "source": [
    "import logging as log\n",
    "log.getLogger().setLevel(log.DEBUG)"
   ]
  },
  {
   "cell_type": "code",
   "execution_count": 26,
   "metadata": {},
   "outputs": [],
   "source": [
    "id = 'mercury:PM-MER-MS-H05_5cc_01_Geological_Units_5_Classes'\n",
    "\n",
    "# gather bb information and reduce to the center location\n",
    "from owslib.wms import WebMapService\n",
    "wms = WebMapService(PLANMAP_WMS)\n",
    "bb = wms[id].boundingBox[:4]\n",
    "loc = np.mean(np.array(bb).reshape(2,2), axis=0)"
   ]
  },
  {
   "cell_type": "markdown",
   "metadata": {},
   "source": [
    "Here the actual folium map is created"
   ]
  },
  {
   "cell_type": "code",
   "execution_count": 29,
   "metadata": {},
   "outputs": [
    {
     "data": {
      "text/html": [
       "<div style=\"width:100%;\"><div style=\"position:relative;width:100%;height:0;padding-bottom:60%;\"><iframe src=\"data:text/html;charset=utf-8;base64,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\" style=\"position:absolute;width:100%;height:100%;left:0;top:0;border:none !important;\" allowfullscreen webkitallowfullscreen mozallowfullscreen></iframe></div></div>"
      ],
      "text/plain": [
       "<folium.folium.Map at 0x7f4423610048>"
      ]
     },
     "execution_count": 29,
     "metadata": {},
     "output_type": "execute_result"
    }
   ],
   "source": [
    "m = folium.Map(zoom_start=3, tiles=None,height=600, width=1200,crs=\"EPSG4326\",location=loc.tolist())\n",
    "\n",
    "# just as an option for basemap\n",
    "folium.raster_layers.WmsTileLayer(name=\"mariner\",\n",
    "                url=\"https://planetarymaps.usgs.gov/cgi-bin/mapserv?map=/maps/mercury/mercury_simp_cyl.map\",\n",
    "                format=\"image/png\",\n",
    "                layers='MESSENGER_Mariner', overlay=True, control=True, show=False).add_to(m)\n",
    "\n",
    "\n",
    "folium.raster_layers.WmsTileLayer(name=\"messenger_color\",\n",
    "                url=\"https://planetarymaps.usgs.gov/cgi-bin/mapserv?map=/maps/mercury/mercury_simp_cyl.map\",\n",
    "                format=\"image/png\",\n",
    "                layers='MESSENGER_Color', overlay=True, control=True, show=False).add_to(m)\n",
    "\n",
    "folium.raster_layers.WmsTileLayer(\n",
    "    url=PLANMAP_WMS,\n",
    "    name='Units 5 classes',\n",
    "    format='image/png',\n",
    "    layers=id,\n",
    "    overlay=True,\n",
    "    control=True,transparent=True,opacity=0.6\n",
    ").add_to(m)\n",
    "\n",
    "\n",
    "folium.raster_layers.WmsTileLayer(\n",
    "    url=PLANMAP_WMS,\n",
    "    name='665m DEM',\n",
    "    format='image/png',\n",
    "    layers='mercury:USGS_mercury_global_dem_665m',\n",
    "    overlay=True,\n",
    "    control=True,transparent=True,opacity=0.6\n",
    ").add_to(m)\n",
    "\n",
    "\n",
    "folium.raster_layers.WmsTileLayer(name=\"labels\",\n",
    "                url=\"https://wms.wr.usgs.gov/cgi-bin/mapserv?map=/maps/mercury/mercury_nomen_wms.map\",\n",
    "                format='image/png',\n",
    "                layers='NOMENCLATURE', overlay=True, control=True).add_to(m)\n",
    "\n",
    "folium.LayerControl().add_to(m)\n",
    "\n",
    "m"
   ]
  },
  {
   "cell_type": "code",
   "execution_count": null,
   "metadata": {},
   "outputs": [],
   "source": []
  },
  {
   "cell_type": "code",
   "execution_count": null,
   "metadata": {},
   "outputs": [],
   "source": []
  }
 ],
 "metadata": {
  "kernelspec": {
   "display_name": "Python 3",
   "language": "python",
   "name": "python3"
  },
  "language_info": {
   "codemirror_mode": {
    "name": "ipython",
    "version": 3
   },
   "file_extension": ".py",
   "mimetype": "text/x-python",
   "name": "python",
   "nbconvert_exporter": "python",
   "pygments_lexer": "ipython3",
   "version": "3.7.3"
  }
 },
 "nbformat": 4,
 "nbformat_minor": 2
}

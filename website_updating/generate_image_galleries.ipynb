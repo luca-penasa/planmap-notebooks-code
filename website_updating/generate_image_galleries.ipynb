{
 "cells": [
  {
   "cell_type": "code",
   "execution_count": null,
   "metadata": {},
   "outputs": [],
   "source": []
  },
  {
   "cell_type": "code",
   "execution_count": 10,
   "metadata": {},
   "outputs": [
    {
     "name": "stdout",
     "output_type": "stream",
     "text": [
      "Populating the interactive namespace from numpy and matplotlib\n"
     ]
    },
    {
     "name": "stderr",
     "output_type": "stream",
     "text": [
      "/usr/lib/python3.8/site-packages/IPython/core/magics/pylab.py:159: UserWarning: pylab import has clobbered these variables: ['style', 'f']\n",
      "`%matplotlib` prevents importing * from pylab and numpy\n",
      "  warn(\"pylab import has clobbered these variables: %s\"  % clobbered +\n"
     ]
    }
   ],
   "source": [
    "%pylab inline\n",
    "\n",
    "import os\n",
    "import unicodedata, re\n",
    "from PIL import Image\n",
    "from xml.etree import ElementTree as ET\n",
    "Image.MAX_IMAGE_PIXELS = None"
   ]
  },
  {
   "cell_type": "code",
   "execution_count": null,
   "metadata": {},
   "outputs": [],
   "source": []
  },
  {
   "cell_type": "code",
   "execution_count": 11,
   "metadata": {},
   "outputs": [],
   "source": [
    "from pathvalidate import sanitize_filename, sanitize_filepath"
   ]
  },
  {
   "cell_type": "code",
   "execution_count": 12,
   "metadata": {},
   "outputs": [],
   "source": [
    "# files_folder = \"/home/luca/Documenti/planmap/website_data/original/bianca/\"\n",
    "\n",
    "\n",
    "outfolder = \"/home/luca/Documenti/planmap/website_data/artworks/\"\n",
    "dataurl = \"https://planmap.eu/sites/default/files/artworks/\"\n",
    "\n"
   ]
  },
  {
   "cell_type": "code",
   "execution_count": 13,
   "metadata": {},
   "outputs": [],
   "source": [
    "def find_all_images(folder):\n",
    "    import glob\n",
    "    jpgs = glob.glob(folder + \"/*.jpg\")\n",
    "    pngs = glob.glob(folder + \"/*.png\")\n",
    "\n",
    "    images = jpgs + pngs\n",
    "    \n",
    "    return sort(images)\n",
    "\n"
   ]
  },
  {
   "cell_type": "code",
   "execution_count": 14,
   "metadata": {},
   "outputs": [],
   "source": [
    "def resize_image(file, outfile, maxsize=(512, 512), write=True):\n",
    "    if outfile[-4:] != \"png\":\n",
    "        print(\"renaming extensions to png\")\n",
    "        outfile = outfile[:-3] + \"png\"    \n",
    "    if write:\n",
    "        im = Image.open(file)\n",
    "        im.thumbnail(maxsize, Image.ANTIALIAS)\n",
    "        im.save(outfile, \"PNG\")\n",
    "        \n",
    "    return outfile # actual written file"
   ]
  },
  {
   "cell_type": "code",
   "execution_count": null,
   "metadata": {},
   "outputs": [],
   "source": [
    "\n"
   ]
  },
  {
   "cell_type": "code",
   "execution_count": null,
   "metadata": {},
   "outputs": [],
   "source": [
    "\n"
   ]
  },
  {
   "cell_type": "code",
   "execution_count": 15,
   "metadata": {},
   "outputs": [],
   "source": [
    "def generate_page_and_images(files_folder, write=False):\n",
    "    images = find_all_images(files_folder)\n",
    "    subfolder = files_folder.rsplit('/', 2)[-1]\n",
    "    print(f\"subfolder {subfolder}\")\n",
    "    os.makedirs(outfolder + subfolder, exist_ok=1)\n",
    "\n",
    "    div = ET.Element(\"div\", attrib={\"class\":\"rtecenter\"})\n",
    "    \n",
    "    for image in images:\n",
    "        print(f\"image {image}\")\n",
    "        name = os.path.split(image)[-1]\n",
    "        filename =sanitize_filepath (name).replace(\" \", \"_\")\n",
    "        filename_thumb = filename[:-4] + \".thumb.jpg\"\n",
    "\n",
    "        outfile = os.path.join(outfolder, subfolder, filename)\n",
    "        outfile_thumb = os.path.join(outfolder, subfolder, filename_thumb)\n",
    "        print(outfile)\n",
    "        resize_image(image, outfile, np.array((2048, 2048)), write=write)\n",
    "        resize_image(image, outfile_thumb, np.array((2048, 2048))/4, write=write)\n",
    "        url = os.path.join(dataurl, subfolder, filename)\n",
    "        url = url[:-3] + \"png\"\n",
    "        url_thumb = os.path.join(dataurl, subfolder, filename_thumb)\n",
    "        url_thumb = url_thumb[:-3] + \"png\"\n",
    "        print(url)\n",
    "        print(url_thumb)\n",
    "\n",
    "        link = ET.Element(\"a\", attrib={\"href\": url})\n",
    "        img = ET.Element(\"img\", attrib={\"alt\":f\"Broken link: {name}\", \"src\": url_thumb, \"style\": \"border-radius:2%;  object-fit: contain; max-height:250px; widht:auto\"})\n",
    "        link.append(img)\n",
    "        div.append(link)\n",
    "        \n",
    "    asstring = ET.tostring(div, encoding='unicode', method='xml')\n",
    "\n",
    "#     ET.ElementTree(div).write(os.path.join(outfolder, f\"{subfolder}.html\"))\n",
    "    \n",
    "    return asstring\n",
    "style=\"height:725px;max-width:500px;width: expression(this.width > 500 ? 500: true);\""
   ]
  },
  {
   "cell_type": "code",
   "execution_count": 16,
   "metadata": {},
   "outputs": [
    {
     "name": "stdout",
     "output_type": "stream",
     "text": [
      "working in /home/luca/Documenti/planmap/website_data/original/bianca\n",
      "subfolder bianca\n",
      "image /home/luca/Documenti/planmap/website_data/original/bianca/Presentazione MARIE_inglese.png\n",
      "/home/luca/Documenti/planmap/website_data/artworks/bianca/Presentazione_MARIE_inglese.png\n",
      "renaming extensions to png\n",
      "renaming extensions to png\n",
      "https://planmap.eu/sites/default/files/artworks/bianca/Presentazione_MARIE_inglese.png\n",
      "https://planmap.eu/sites/default/files/artworks/bianca/Presentazione_MARIE_inglese.thumb.png\n",
      "image /home/luca/Documenti/planmap/website_data/original/bianca/Presentazione MAX_inglese.png\n",
      "/home/luca/Documenti/planmap/website_data/artworks/bianca/Presentazione_MAX_inglese.png\n",
      "renaming extensions to png\n",
      "renaming extensions to png\n",
      "https://planmap.eu/sites/default/files/artworks/bianca/Presentazione_MAX_inglese.png\n",
      "https://planmap.eu/sites/default/files/artworks/bianca/Presentazione_MAX_inglese.thumb.png\n",
      "image /home/luca/Documenti/planmap/website_data/original/bianca/page_1.jpg\n",
      "/home/luca/Documenti/planmap/website_data/artworks/bianca/page_1.jpg\n",
      "renaming extensions to png\n",
      "renaming extensions to png\n",
      "https://planmap.eu/sites/default/files/artworks/bianca/page_1.png\n",
      "https://planmap.eu/sites/default/files/artworks/bianca/page_1.thumb.png\n",
      "image /home/luca/Documenti/planmap/website_data/original/bianca/page_2.jpg\n",
      "/home/luca/Documenti/planmap/website_data/artworks/bianca/page_2.jpg\n",
      "renaming extensions to png\n",
      "renaming extensions to png\n",
      "https://planmap.eu/sites/default/files/artworks/bianca/page_2.png\n",
      "https://planmap.eu/sites/default/files/artworks/bianca/page_2.thumb.png\n",
      "image /home/luca/Documenti/planmap/website_data/original/bianca/page_3.jpg\n",
      "/home/luca/Documenti/planmap/website_data/artworks/bianca/page_3.jpg\n",
      "renaming extensions to png\n",
      "renaming extensions to png\n",
      "https://planmap.eu/sites/default/files/artworks/bianca/page_3.png\n",
      "https://planmap.eu/sites/default/files/artworks/bianca/page_3.thumb.png\n",
      "image /home/luca/Documenti/planmap/website_data/original/bianca/page_4.png\n",
      "/home/luca/Documenti/planmap/website_data/artworks/bianca/page_4.png\n",
      "renaming extensions to png\n",
      "renaming extensions to png\n",
      "https://planmap.eu/sites/default/files/artworks/bianca/page_4.png\n",
      "https://planmap.eu/sites/default/files/artworks/bianca/page_4.thumb.png\n",
      "image /home/luca/Documenti/planmap/website_data/original/bianca/page_5.png\n",
      "/home/luca/Documenti/planmap/website_data/artworks/bianca/page_5.png\n",
      "renaming extensions to png\n",
      "renaming extensions to png\n",
      "https://planmap.eu/sites/default/files/artworks/bianca/page_5.png\n",
      "https://planmap.eu/sites/default/files/artworks/bianca/page_5.thumb.png\n",
      "image /home/luca/Documenti/planmap/website_data/original/bianca/page_6.png\n",
      "/home/luca/Documenti/planmap/website_data/artworks/bianca/page_6.png\n",
      "renaming extensions to png\n",
      "renaming extensions to png\n",
      "https://planmap.eu/sites/default/files/artworks/bianca/page_6.png\n",
      "https://planmap.eu/sites/default/files/artworks/bianca/page_6.thumb.png\n",
      "working in /home/luca/Documenti/planmap/website_data/original/jacopo\n",
      "subfolder jacopo\n",
      "image /home/luca/Documenti/planmap/website_data/original/jacopo/Copernicus_illustrazione_high res.png\n",
      "/home/luca/Documenti/planmap/website_data/artworks/jacopo/Copernicus_illustrazione_high_res.png\n",
      "renaming extensions to png\n",
      "renaming extensions to png\n",
      "https://planmap.eu/sites/default/files/artworks/jacopo/Copernicus_illustrazione_high_res.png\n",
      "https://planmap.eu/sites/default/files/artworks/jacopo/Copernicus_illustrazione_high_res.thumb.png\n",
      "image /home/luca/Documenti/planmap/website_data/original/jacopo/Jacopo Schiavo_Luna.jpg\n",
      "/home/luca/Documenti/planmap/website_data/artworks/jacopo/Jacopo_Schiavo_Luna.jpg\n",
      "renaming extensions to png\n",
      "renaming extensions to png\n",
      "https://planmap.eu/sites/default/files/artworks/jacopo/Jacopo_Schiavo_Luna.png\n",
      "https://planmap.eu/sites/default/files/artworks/jacopo/Jacopo_Schiavo_Luna.thumb.png\n",
      "image /home/luca/Documenti/planmap/website_data/original/jacopo/Jacopo Schiavo_Marte.jpg\n",
      "/home/luca/Documenti/planmap/website_data/artworks/jacopo/Jacopo_Schiavo_Marte.jpg\n",
      "renaming extensions to png\n",
      "renaming extensions to png\n",
      "https://planmap.eu/sites/default/files/artworks/jacopo/Jacopo_Schiavo_Marte.png\n",
      "https://planmap.eu/sites/default/files/artworks/jacopo/Jacopo_Schiavo_Marte.thumb.png\n",
      "image /home/luca/Documenti/planmap/website_data/original/jacopo/Jacopo_Moon_base.png\n",
      "/home/luca/Documenti/planmap/website_data/artworks/jacopo/Jacopo_Moon_base.png\n",
      "renaming extensions to png\n",
      "renaming extensions to png\n",
      "https://planmap.eu/sites/default/files/artworks/jacopo/Jacopo_Moon_base.png\n",
      "https://planmap.eu/sites/default/files/artworks/jacopo/Jacopo_Moon_base.thumb.png\n",
      "image /home/luca/Documenti/planmap/website_data/original/jacopo/Jacopo_Remote_Presence.png\n",
      "/home/luca/Documenti/planmap/website_data/artworks/jacopo/Jacopo_Remote_Presence.png\n",
      "renaming extensions to png\n",
      "renaming extensions to png\n",
      "https://planmap.eu/sites/default/files/artworks/jacopo/Jacopo_Remote_Presence.png\n",
      "https://planmap.eu/sites/default/files/artworks/jacopo/Jacopo_Remote_Presence.thumb.png\n",
      "image /home/luca/Documenti/planmap/website_data/original/jacopo/Patch.jpg\n",
      "/home/luca/Documenti/planmap/website_data/artworks/jacopo/Patch.jpg\n",
      "renaming extensions to png\n",
      "renaming extensions to png\n",
      "https://planmap.eu/sites/default/files/artworks/jacopo/Patch.png\n",
      "https://planmap.eu/sites/default/files/artworks/jacopo/Patch.thumb.png\n",
      "working in /home/luca/Documenti/planmap/website_data/original/carlotta\n",
      "subfolder carlotta\n",
      "image /home/luca/Documenti/planmap/website_data/original/carlotta/Carlotta Montagna_geolino logo planmap.jpg\n",
      "/home/luca/Documenti/planmap/website_data/artworks/carlotta/Carlotta_Montagna_geolino_logo_planmap.jpg\n",
      "renaming extensions to png\n",
      "renaming extensions to png\n",
      "https://planmap.eu/sites/default/files/artworks/carlotta/Carlotta_Montagna_geolino_logo_planmap.png\n",
      "https://planmap.eu/sites/default/files/artworks/carlotta/Carlotta_Montagna_geolino_logo_planmap.thumb.png\n",
      "image /home/luca/Documenti/planmap/website_data/original/carlotta/Carlotta Montagna_geolino nella navicella.jpg\n",
      "/home/luca/Documenti/planmap/website_data/artworks/carlotta/Carlotta_Montagna_geolino_nella_navicella.jpg\n",
      "renaming extensions to png\n",
      "renaming extensions to png\n",
      "https://planmap.eu/sites/default/files/artworks/carlotta/Carlotta_Montagna_geolino_nella_navicella.png\n",
      "https://planmap.eu/sites/default/files/artworks/carlotta/Carlotta_Montagna_geolino_nella_navicella.thumb.png\n",
      "image /home/luca/Documenti/planmap/website_data/original/carlotta/geolino e curiosity mappa.jpg\n",
      "/home/luca/Documenti/planmap/website_data/artworks/carlotta/geolino_e_curiosity_mappa.jpg\n",
      "renaming extensions to png\n",
      "renaming extensions to png\n",
      "https://planmap.eu/sites/default/files/artworks/carlotta/geolino_e_curiosity_mappa.png\n",
      "https://planmap.eu/sites/default/files/artworks/carlotta/geolino_e_curiosity_mappa.thumb.png\n",
      "image /home/luca/Documenti/planmap/website_data/original/carlotta/geolino sasso.jpg\n",
      "/home/luca/Documenti/planmap/website_data/artworks/carlotta/geolino_sasso.jpg\n",
      "renaming extensions to png\n",
      "renaming extensions to png\n",
      "https://planmap.eu/sites/default/files/artworks/carlotta/geolino_sasso.png\n",
      "https://planmap.eu/sites/default/files/artworks/carlotta/geolino_sasso.thumb.png\n",
      "image /home/luca/Documenti/planmap/website_data/original/carlotta/patchgeolinodefinitivopiatto.jpg\n",
      "/home/luca/Documenti/planmap/website_data/artworks/carlotta/patchgeolinodefinitivopiatto.jpg\n",
      "renaming extensions to png\n",
      "renaming extensions to png\n",
      "https://planmap.eu/sites/default/files/artworks/carlotta/patchgeolinodefinitivopiatto.png\n",
      "https://planmap.eu/sites/default/files/artworks/carlotta/patchgeolinodefinitivopiatto.thumb.png\n"
     ]
    }
   ],
   "source": [
    "out  = {}\n",
    "\n",
    "for name in [\"bianca\", \"jacopo\", \"carlotta\"]:\n",
    "    folder = \"/home/luca/Documenti/planmap/website_data/original/\" + name\n",
    "    print(f\"working in {folder}\")\n",
    "    out[name] = generate_page_and_images(folder, write=False)\n",
    "    \n",
    "    "
   ]
  },
  {
   "cell_type": "code",
   "execution_count": 17,
   "metadata": {},
   "outputs": [],
   "source": [
    "from jinja2 import Template\n",
    "\n",
    "template = \"./artists.tpl\"\n",
    "outfile = template[:-3] + \"html\"\n",
    "\n",
    "ll = open(template, 'r').read()\n",
    "\n",
    "t = Template(ll)\n",
    "rendered = t.render(out)\n",
    "\n",
    "\n",
    "with open(outfile, 'w') as f:\n",
    "    f.write(rendered)"
   ]
  },
  {
   "cell_type": "code",
   "execution_count": 18,
   "metadata": {},
   "outputs": [
    {
     "data": {
      "text/plain": [
       "'    <div>The PLANMAP outreach program based on drawings is carried out by the\\n      UNIPD members and sustained by professional artists and the editors of the\\n      PLANCK journal. The program will envisage up to 24 illustrations\\n      subdivided on the bases of the different scopes and audiences: 9\\n      illustrations are dedicated to kids, 9 of them will constitute a Comics\\n      series telling planetary geological mapping during the project\\n      development; finally 6 of them, that go under the name of Drawing the\\n      Future, will be used to populate the web-site and will depict how\\n      planetary exploration will be in the near future also thanks to PLANMAP\\n      products. Most of them will be delivered also as flyers on whose reverse\\n      side will appear sentences recalling the PLANMAP project activities.</div>\\n    <div>&nbsp;</div>\\n    <h2>Drawing for Kids: Carlotta Montagna</h2>\\n    <p class=\"rtejustify\"><a href=\"https://www.carlottamontagna.it/\"><img alt=\"\"\\n          src=\"https://planmap.eu//sites/default/files/carlotta.png\" style=\"border-radius:10%; float:left; margin-left:10px; margin-right:10px; width:120px\"></a>\\n      Carlotta studied at the Academy of Fine Arts in Venice, a city whose\\n      magnificence influenced her interest in fine arts and beautiful things.</p>\\n    <p class=\"rtejustify\">After a workshop at the Scuola Internazionale di\\n      Illustrazione in Sarmede (Italy) she developed an interest in the world of\\n      children illustrations and attended several further workshops. She\\n      participated in various illustration contests where her works were\\n      selected. The technique she uses is mainly acrylic, tempera and pencil\\n      colors on paper or canvas.</p>\\n    <div class=\"rtecenter\"><a href=\"https://planmap.eu/sites/default/files/artworks/carlotta/Carlotta_Montagna_geolino_logo_planmap.png\"><img alt=\"Broken link: Carlotta Montagna_geolino logo planmap.jpg\" src=\"https://planmap.eu/sites/default/files/artworks/carlotta/Carlotta_Montagna_geolino_logo_planmap.thumb.png\" style=\"border-radius:2%;  object-fit: contain; max-height:250px; widht:auto\" /></a><a href=\"https://planmap.eu/sites/default/files/artworks/carlotta/Carlotta_Montagna_geolino_nella_navicella.png\"><img alt=\"Broken link: Carlotta Montagna_geolino nella navicella.jpg\" src=\"https://planmap.eu/sites/default/files/artworks/carlotta/Carlotta_Montagna_geolino_nella_navicella.thumb.png\" style=\"border-radius:2%;  object-fit: contain; max-height:250px; widht:auto\" /></a><a href=\"https://planmap.eu/sites/default/files/artworks/carlotta/geolino_e_curiosity_mappa.png\"><img alt=\"Broken link: geolino e curiosity mappa.jpg\" src=\"https://planmap.eu/sites/default/files/artworks/carlotta/geolino_e_curiosity_mappa.thumb.png\" style=\"border-radius:2%;  object-fit: contain; max-height:250px; widht:auto\" /></a><a href=\"https://planmap.eu/sites/default/files/artworks/carlotta/geolino_sasso.png\"><img alt=\"Broken link: geolino sasso.jpg\" src=\"https://planmap.eu/sites/default/files/artworks/carlotta/geolino_sasso.thumb.png\" style=\"border-radius:2%;  object-fit: contain; max-height:250px; widht:auto\" /></a><a href=\"https://planmap.eu/sites/default/files/artworks/carlotta/patchgeolinodefinitivopiatto.png\"><img alt=\"Broken link: patchgeolinodefinitivopiatto.jpg\" src=\"https://planmap.eu/sites/default/files/artworks/carlotta/patchgeolinodefinitivopiatto.thumb.png\" style=\"border-radius:2%;  object-fit: contain; max-height:250px; widht:auto\" /></a></div>\\n    <div>&nbsp;</div>\\n    <h2>Drawing the Future: Jacopo Schiavo</h2>\\n    <p class=\"rtejustify\"><a href=\"https://jacoposchiavoart.artstation.com\"><img\\n          alt=\"\" src=\"https://planmap.eu/sites/default/files/jacopo.png\" style=\"border-radius:10%; float:left; height:138px; margin-left:10px; margin-right:10px; width:120px\"></a>\\n      Jacopo is an Italian illustrator.&nbsp;He studied and trained at the\\n      \"Scuola internazionale di Comics - Academy of Visual Art and New Media\".</p>\\n    <p class=\"rtejustify\">Now as a professional, he is involved in many projects\\n      as a freelancer and concept artists in the publishing industry. Jacopo is\\n      also one of the co-founders of the illustration studio \"Wahtari Studio\"\\n      who led him to start cooperations in the filmmaking industry and animation\\n      movies productions.</p>\\n    <div class=\"rtecenter\"><a href=\"https://planmap.eu/sites/default/files/artworks/jacopo/Copernicus_illustrazione_high_res.png\"><img alt=\"Broken link: Copernicus_illustrazione_high res.png\" src=\"https://planmap.eu/sites/default/files/artworks/jacopo/Copernicus_illustrazione_high_res.thumb.png\" style=\"border-radius:2%;  object-fit: contain; max-height:250px; widht:auto\" /></a><a href=\"https://planmap.eu/sites/default/files/artworks/jacopo/Jacopo_Schiavo_Luna.png\"><img alt=\"Broken link: Jacopo Schiavo_Luna.jpg\" src=\"https://planmap.eu/sites/default/files/artworks/jacopo/Jacopo_Schiavo_Luna.thumb.png\" style=\"border-radius:2%;  object-fit: contain; max-height:250px; widht:auto\" /></a><a href=\"https://planmap.eu/sites/default/files/artworks/jacopo/Jacopo_Schiavo_Marte.png\"><img alt=\"Broken link: Jacopo Schiavo_Marte.jpg\" src=\"https://planmap.eu/sites/default/files/artworks/jacopo/Jacopo_Schiavo_Marte.thumb.png\" style=\"border-radius:2%;  object-fit: contain; max-height:250px; widht:auto\" /></a><a href=\"https://planmap.eu/sites/default/files/artworks/jacopo/Jacopo_Moon_base.png\"><img alt=\"Broken link: Jacopo_Moon_base.png\" src=\"https://planmap.eu/sites/default/files/artworks/jacopo/Jacopo_Moon_base.thumb.png\" style=\"border-radius:2%;  object-fit: contain; max-height:250px; widht:auto\" /></a><a href=\"https://planmap.eu/sites/default/files/artworks/jacopo/Jacopo_Remote_Presence.png\"><img alt=\"Broken link: Jacopo_Remote_Presence.png\" src=\"https://planmap.eu/sites/default/files/artworks/jacopo/Jacopo_Remote_Presence.thumb.png\" style=\"border-radius:2%;  object-fit: contain; max-height:250px; widht:auto\" /></a><a href=\"https://planmap.eu/sites/default/files/artworks/jacopo/Patch.png\"><img alt=\"Broken link: Patch.jpg\" src=\"https://planmap.eu/sites/default/files/artworks/jacopo/Patch.thumb.png\" style=\"border-radius:2%;  object-fit: contain; max-height:250px; widht:auto\" /></a></div>\\n    <div>&nbsp;</div>\\n    <h2>Drawing comics: Bianca Maria Scotton</h2>\\n    <p class=\"rtejustify\"><a href=\"http://www.behance.net/biancamaria86\"><img alt=\"\"\\n          src=\"https://planmap.eu/sites/default/files/biancamaria.png\" style=\"border-radius:10%; float:left; height:187px; margin-left:10px; margin-right:10px; width:120px\"></a>\\n      Bianca completed her bachelor and master degree in Communication Sciences\\n      and Media Education at the University of Padova in Italy, after that she\\n      moved to the UK and completed her Master in&nbsp;Illustration and\\n      Animation at the Coventry University.&nbsp;</p>\\n    <p class=\"rtejustify\">Bianca has been collaborating with the&nbsp;<em>PlaNCK!\\n        magazine </em>since 2013 drawing comics and illustrations for kids\\n      between 8 and 12 years old. She gained experience illustrating books (<em>Il\\n        guanto di mio fratello, </em>2015<em>;&nbsp;Bibi in punta di piedi, </em>2018)&nbsp;and,\\n      since 2015, she has also started working as video editor and goes on\\n      following through on her goals studying Animation Movie at\\n      the&nbsp;\"Scuola internazionale di Comics - Academy of Visual Art and New\\n      Media\".</p>\\n    <div class=\"rtecenter\"><a href=\"https://planmap.eu/sites/default/files/artworks/bianca/Presentazione_MARIE_inglese.png\"><img alt=\"Broken link: Presentazione MARIE_inglese.png\" src=\"https://planmap.eu/sites/default/files/artworks/bianca/Presentazione_MARIE_inglese.thumb.png\" style=\"border-radius:2%;  object-fit: contain; max-height:250px; widht:auto\" /></a><a href=\"https://planmap.eu/sites/default/files/artworks/bianca/Presentazione_MAX_inglese.png\"><img alt=\"Broken link: Presentazione MAX_inglese.png\" src=\"https://planmap.eu/sites/default/files/artworks/bianca/Presentazione_MAX_inglese.thumb.png\" style=\"border-radius:2%;  object-fit: contain; max-height:250px; widht:auto\" /></a><a href=\"https://planmap.eu/sites/default/files/artworks/bianca/page_1.png\"><img alt=\"Broken link: page_1.jpg\" src=\"https://planmap.eu/sites/default/files/artworks/bianca/page_1.thumb.png\" style=\"border-radius:2%;  object-fit: contain; max-height:250px; widht:auto\" /></a><a href=\"https://planmap.eu/sites/default/files/artworks/bianca/page_2.png\"><img alt=\"Broken link: page_2.jpg\" src=\"https://planmap.eu/sites/default/files/artworks/bianca/page_2.thumb.png\" style=\"border-radius:2%;  object-fit: contain; max-height:250px; widht:auto\" /></a><a href=\"https://planmap.eu/sites/default/files/artworks/bianca/page_3.png\"><img alt=\"Broken link: page_3.jpg\" src=\"https://planmap.eu/sites/default/files/artworks/bianca/page_3.thumb.png\" style=\"border-radius:2%;  object-fit: contain; max-height:250px; widht:auto\" /></a><a href=\"https://planmap.eu/sites/default/files/artworks/bianca/page_4.png\"><img alt=\"Broken link: page_4.png\" src=\"https://planmap.eu/sites/default/files/artworks/bianca/page_4.thumb.png\" style=\"border-radius:2%;  object-fit: contain; max-height:250px; widht:auto\" /></a><a href=\"https://planmap.eu/sites/default/files/artworks/bianca/page_5.png\"><img alt=\"Broken link: page_5.png\" src=\"https://planmap.eu/sites/default/files/artworks/bianca/page_5.thumb.png\" style=\"border-radius:2%;  object-fit: contain; max-height:250px; widht:auto\" /></a><a href=\"https://planmap.eu/sites/default/files/artworks/bianca/page_6.png\"><img alt=\"Broken link: page_6.png\" src=\"https://planmap.eu/sites/default/files/artworks/bianca/page_6.thumb.png\" style=\"border-radius:2%;  object-fit: contain; max-height:250px; widht:auto\" /></a></div>\\n'"
      ]
     },
     "execution_count": 18,
     "metadata": {},
     "output_type": "execute_result"
    }
   ],
   "source": [
    "t.render(out)"
   ]
  },
  {
   "cell_type": "code",
   "execution_count": null,
   "metadata": {},
   "outputs": [],
   "source": []
  }
 ],
 "metadata": {
  "jupytext": {
   "cell_metadata_filter": "all",
   "notebook_metadata_filter": "all,-language_info",
   "text_representation": {
    "extension": ".py",
    "format_name": "percent",
    "format_version": "1.3",
    "jupytext_version": "1.4.2"
   }
  },
  "kernelspec": {
   "display_name": "Python 3",
   "language": "python",
   "name": "python3"
  },
  "language_info": {
   "codemirror_mode": {
    "name": "ipython",
    "version": 3
   },
   "file_extension": ".py",
   "mimetype": "text/x-python",
   "name": "python",
   "nbconvert_exporter": "python",
   "pygments_lexer": "ipython3",
   "version": "3.8.2"
  }
 },
 "nbformat": 4,
 "nbformat_minor": 4
}

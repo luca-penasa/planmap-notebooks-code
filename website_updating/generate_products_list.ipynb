{
 "cells": [
  {
   "cell_type": "code",
   "execution_count": 61,
   "metadata": {},
   "outputs": [],
   "source": [
    "import requests\n",
    "\n",
    "from bs4 import BeautifulSoup\n",
    "\n",
    "baseurl = \"https://data.planmap.eu/pub/\"\n",
    "\n",
    "# html = requests.get(url).content\n",
    "\n",
    "# soup = BeautifulSoup(html,\"html5lib\")\n",
    "\n",
    "\n",
    "\n",
    "# mov_container = mlist.find_all(\"div\",class_=\"lister-item mode-advanced\")"
   ]
  },
  {
   "cell_type": "code",
   "execution_count": 62,
   "metadata": {},
   "outputs": [],
   "source": [
    "import attr\n",
    "\n",
    "@attr.attrs\n",
    "class Body():\n",
    "    name = attr.ib(None)\n",
    "    maps = attr.ib(None)\n",
    "    \n",
    "@attr.attrs\n",
    "class Product():\n",
    "    name = attr.ib(None)\n",
    "    url = attr.ib(None)\n",
    "    all_docs = attr.ib(None)\n",
    "    thumb = attr.ib(None)\n",
    "    thumb_url = attr.ib(None)\n",
    "    \n",
    "\n",
    "    \n",
    "    "
   ]
  },
  {
   "cell_type": "code",
   "execution_count": 63,
   "metadata": {},
   "outputs": [],
   "source": [
    "def fetch_address(url):\n",
    "    html = requests.get(url).content\n",
    "    soup = BeautifulSoup(html,\"html5lib\")\n",
    "    return soup\n",
    "    \n",
    "def get_cleaned_links(soup, ignores=[]):\n",
    "    found = soup.find_all([\"a\"], recursive=True)\n",
    "    \n",
    "    out = []\n",
    "    for f in found:\n",
    "        if list(f.children)[0] == f[\"href\"] and f[\"href\"] not in ignore:\n",
    "            if f[\"href\"][-1] == \"/\":\n",
    "                name=f[\"href\"][:-1]\n",
    "            else:\n",
    "                name =f[\"href\"]\n",
    "            out.append(name)\n",
    "            \n",
    "    return out"
   ]
  },
  {
   "cell_type": "code",
   "execution_count": 64,
   "metadata": {},
   "outputs": [],
   "source": [
    "bodies = [\"mars\", \"mercury\", \"moon\"]\n",
    "# bodies = [\"mars\"]\n",
    "ignore =[\"versions/\", \"README.md\"]\n",
    "\n",
    "bb = []\n",
    "for body in bodies:\n",
    "    b = Body()\n",
    "    b.name = body\n",
    "    url = baseurl + body\n",
    "    soup = fetch_address(url)\n",
    "#     found = soup.find_all([\"a\"], recursive=True)\n",
    "    \n",
    "    maps = []\n",
    "    out = get_cleaned_links(soup, ignore)\n",
    "    for name in out:\n",
    "        m = Product(name=name)\n",
    "        maps.append(m)\n",
    "#     for f in found:\n",
    "#         if list(f.children)[0] == f[\"href\"] and f[\"href\"] not in ignore:\n",
    "#             m = Map(name=f[\"href\"][:-1])\n",
    "#             out.append(m)\n",
    "    \n",
    "    b.maps = maps\n",
    "    bb.append(b)\n",
    "    \n",
    "    \n",
    "\n",
    "    \n"
   ]
  },
  {
   "cell_type": "code",
   "execution_count": 65,
   "metadata": {},
   "outputs": [
    {
     "data": {
      "text/plain": [
       "[Body(name='mars', maps=[Product(name='PM-MAR-C-Arsinoes', url=None, all_docs=None, thumb=None, thumb_url=None), Product(name='PM-MAR-C-Crommelin', url=None, all_docs=None, thumb=None, thumb_url=None), Product(name='PM-MAR-D-Crommelin', url=None, all_docs=None, thumb=None, thumb_url=None), Product(name='PM-MAR-D-Gale_kimberley', url=None, all_docs=None, thumb=None, thumb_url=None), Product(name='PM-MAR-MS-Arsinoes', url=None, all_docs=None, thumb=None, thumb_url=None), Product(name='PM-MAR-MS-Crommelin', url=None, all_docs=None, thumb=None, thumb_url=None)]),\n",
       " Body(name='mercury', maps=[Product(name='PM-MER-C-Beethoven', url=None, all_docs=None, thumb=None, thumb_url=None), Product(name='PM-MER-C-H05', url=None, all_docs=None, thumb=None, thumb_url=None), Product(name='PM-MER-C-Rembrandt', url=None, all_docs=None, thumb=None, thumb_url=None), Product(name='PM-MER-MS-H02_3cc', url=None, all_docs=None, thumb=None, thumb_url=None), Product(name='PM-MER-MS-H05_3cc', url=None, all_docs=None, thumb=None, thumb_url=None), Product(name='PM-MER-MS-H05_5cc', url=None, all_docs=None, thumb=None, thumb_url=None), Product(name='PM-MER-MS-Rembrandt', url=None, all_docs=None, thumb=None, thumb_url=None)]),\n",
       " Body(name='moon', maps=[Product(name='PM-MOO-C-SPAApollo', url=None, all_docs=None, thumb=None, thumb_url=None), Product(name='PM-MOO-MS-Copernicus', url=None, all_docs=None, thumb=None, thumb_url=None), Product(name='PM-MOO-MS-SPAApollo', url=None, all_docs=None, thumb=None, thumb_url=None)])]"
      ]
     },
     "execution_count": 65,
     "metadata": {},
     "output_type": "execute_result"
    }
   ],
   "source": [
    "bb"
   ]
  },
  {
   "cell_type": "code",
   "execution_count": 66,
   "metadata": {},
   "outputs": [],
   "source": [
    "# compose the per map urls\n",
    "for body in bb:\n",
    "    for map in body.maps:\n",
    "        new_addr = baseurl + body.name + \"/\" + map.name\n",
    "        \n",
    "        map.url = new_addr\n",
    "        \n"
   ]
  },
  {
   "cell_type": "code",
   "execution_count": 67,
   "metadata": {},
   "outputs": [],
   "source": [
    "# append the list of available docs\n",
    "for body in bb:\n",
    "    for map in body.maps:\n",
    "        docurl = map.url + \"/\" + \"document/\"\n",
    "        soup = fetch_address(docurl)\n",
    "        links = get_cleaned_links(soup, ignore)\n",
    "        map.all_docs = links\n",
    "        \n",
    "    "
   ]
  },
  {
   "cell_type": "code",
   "execution_count": 68,
   "metadata": {
    "lines_to_next_cell": 2
   },
   "outputs": [
    {
     "name": "stdout",
     "output_type": "stream",
     "text": [
      "Not found for PM-MAR-C-Arsinoes\n",
      "autoassign PM-MAR-C-Arsinoes_FRT00008233_07-location.browse.png\n",
      "found good thumbnail PM-MAR-C-Crommelin.browse.png\n",
      "Not found for PM-MAR-D-Crommelin\n",
      "Not found for PM-MAR-D-Gale_kimberley\n",
      "found good thumbnail PM-MAR-MS-Arsinoes.browse.png\n",
      "found good thumbnail PM-MAR-MS-Crommelin.browse.png\n",
      "Not found for PM-MER-C-Beethoven\n",
      "autoassign PM-MER-C-Beethoven_450mpp-0.browse.png\n",
      "found good thumbnail PM-MER-C-H05.browse.png\n",
      "found good thumbnail PM-MER-C-H05_02.browse.png\n",
      "Not found for PM-MER-C-Rembrandt\n",
      "autoassign PM-MER-C-Rembrandt_630mpp_clem.browse.png\n",
      "found good thumbnail PM-MER-MS-H02_3cc.browse.png\n",
      "found good thumbnail PM-MER-MS-H05_3cc.browse.png\n",
      "found good thumbnail PM-MER-MS-H05_5cc.browse.png\n",
      "found good thumbnail PM-MER-MS-Rembrandt.browse.png\n",
      "found good thumbnail PM-MOO-C-SPAApollo.browse.png\n",
      "found good thumbnail PM-MOO-MS-Copernicus.browse.png\n",
      "found good thumbnail PM-MOO-MS-SPAApollo.browse.png\n"
     ]
    }
   ],
   "source": [
    "#select proper thumbnails\n",
    "import re\n",
    "for body in bb:\n",
    "    for map in body.maps:\n",
    "        found = None\n",
    "        allpngs = []\n",
    "        for doc in map.all_docs:\n",
    "#             print (doc)\n",
    "            ma = re.match(f\"{map.name}([\\_-][0-9]*)?.browse\\.png\", doc)\n",
    "            if ma:\n",
    "                found = doc\n",
    "                print(f\"found good thumbnail {found}\")\n",
    "                \n",
    "            else:\n",
    "                ma = re.match(f\"{map.name}.*(\\.browse)?\\.png\", doc)\n",
    "                if ma:\n",
    "                    allpngs.append(doc)\n",
    "        \n",
    "        if not found:\n",
    "            print(f\"Not found for {map.name}\")\n",
    "            if len(allpngs) > 0:\n",
    "                print(f\"autoassign {allpngs[0]}\")\n",
    "                found = allpngs[0]\n",
    "            \n",
    "        \n",
    "        map.thumb = found         "
   ]
  },
  {
   "cell_type": "code",
   "execution_count": 69,
   "metadata": {},
   "outputs": [],
   "source": [
    "# update thumbnails urls\n",
    "for body in bb:\n",
    "    for map in body.maps:\n",
    "        thumb = map.thumb\n",
    "        if thumb:\n",
    "            map.thumb_url = map.url + \"/\" + \"document/\" + thumb"
   ]
  },
  {
   "cell_type": "code",
   "execution_count": 70,
   "metadata": {},
   "outputs": [],
   "source": [
    "from xml.etree import ElementTree as ET\n",
    "tdattrib={\"style\": \"background: transparent; border: transparent;  text-align: center; border:#FFF0; background:#FFF0\"}\n",
    "\n",
    "def generate_html_map_rows(map, container):\n",
    "    row1 = ET.Element('tr')\n",
    "    td = ET.Element('td', attrib=tdattrib)\n",
    "    row1.append(td)\n",
    "\n",
    "    td.text = map.name\n",
    "\n",
    "\n",
    "    row2 = ET.Element('tr')\n",
    "    td1 = ET.Element('td', attrib=tdattrib)\n",
    "    row2.append(td1)\n",
    "\n",
    "\n",
    "    link = ET.Element(\"a\", attrib={\"href\": map.url})\n",
    "    img = ET.Element(\"img\", attrib={\"alt\":f\"To datahub ({map.name})\", \"src\": map.thumb_url, \"width\":\"600\", \"style\": \"border-radius:2%;  object-fit: contain;\"})\n",
    "    link.append(img)\n",
    "    td1.append(link)\n",
    "    container.append(row1)\n",
    "    container.append(row2)"
   ]
  },
  {
   "cell_type": "code",
   "execution_count": null,
   "metadata": {},
   "outputs": [],
   "source": []
  },
  {
   "cell_type": "code",
   "execution_count": 71,
   "metadata": {},
   "outputs": [],
   "source": [
    "# geenrate html\n",
    "div = ET.Element(\"div\")\n",
    "table = ET.Element('table', attrib={\"style\": \"background: transparent; border: transparent;  text-align: center;\", \"class\":\"geomaps\"})\n",
    "tbody = ET.Element('tbody')\n",
    "table.append(tbody)\n",
    "\n",
    "def generate_maps_table(maps, container, title=None, name_filter_regex=None, invert_filter=False):\n",
    "    \n",
    "    div = ET.Element(\"div\")\n",
    "    table = ET.Element('table', attrib={\"style\": \"background: transparent; border: transparent;  text-align: center;\", \"class\":\"geomaps\"})\n",
    "    tbody = ET.Element('tbody')\n",
    "    table.append(tbody)\n",
    "    \n",
    "    \n",
    "    if title:\n",
    "        p = ET.Element(\"h2\", attrib={\"class\":\"rtecenter\"})\n",
    "        st = ET.Element(\"strong\")\n",
    "        p.append(st)\n",
    "        st.text = title\n",
    "        container.append(p)\n",
    "        \n",
    "    div.append(table)\n",
    "        \n",
    "    for map in maps:\n",
    "        if name_filter_regex:\n",
    "            match = False\n",
    "            if re.match(name_filter_regex, map.name):\n",
    "                match=True\n",
    "            if invert_filter:\n",
    "                match = not match\n",
    "            \n",
    "        \n",
    "            if match:\n",
    "                print(f\"adding {map.name}\")\n",
    "                generate_html_map_rows(map, tbody)\n",
    "            \n",
    "        else:\n",
    "            generate_html_map_rows(map, tbody)\n",
    "        \n",
    "        \n",
    "    container.append(div)\n",
    "\n",
    "\n",
    "        \n"
   ]
  },
  {
   "cell_type": "code",
   "execution_count": null,
   "metadata": {},
   "outputs": [],
   "source": []
  },
  {
   "cell_type": "code",
   "execution_count": 72,
   "metadata": {},
   "outputs": [
    {
     "name": "stdout",
     "output_type": "stream",
     "text": [
      "adding PM-MAR-C-Arsinoes\n",
      "adding PM-MAR-C-Crommelin\n",
      "adding PM-MER-C-Beethoven\n",
      "adding PM-MER-C-H05\n",
      "adding PM-MER-C-Rembrandt\n",
      "adding PM-MOO-C-SPAApollo\n"
     ]
    }
   ],
   "source": [
    "div = ET.Element(\"div\")\n",
    "for body in bb:\n",
    "    generate_maps_table(body.maps, div, body.name.title(),name_filter_regex=\".*\\-C\\-.*\")\n",
    "ET.ElementTree(div).write(\"spectral.html\")"
   ]
  },
  {
   "cell_type": "code",
   "execution_count": 73,
   "metadata": {
    "lines_to_next_cell": 2
   },
   "outputs": [
    {
     "name": "stdout",
     "output_type": "stream",
     "text": [
      "adding PM-MAR-MS-Arsinoes\n",
      "adding PM-MAR-MS-Crommelin\n",
      "adding PM-MER-MS-H02_3cc\n",
      "adding PM-MER-MS-H05_3cc\n",
      "adding PM-MER-MS-H05_5cc\n",
      "adding PM-MER-MS-Rembrandt\n",
      "adding PM-MOO-MS-Copernicus\n",
      "adding PM-MOO-MS-SPAApollo\n"
     ]
    }
   ],
   "source": [
    "div = ET.Element(\"div\")\n",
    "for body in bb:\n",
    "    generate_maps_table(body.maps, div, body.name.title(), name_filter_regex=\".*\\-MS\\-.*\")\n",
    "ET.ElementTree(div).write(\"geological.html\")"
   ]
  },
  {
   "cell_type": "code",
   "execution_count": 74,
   "metadata": {},
   "outputs": [
    {
     "name": "stdout",
     "output_type": "stream",
     "text": [
      "PM-MOO-C-SPAApollo\n",
      "https://data.planmap.eu/pub/moon/PM-MOO-C-SPAApollo/document/PM-MOO-C-SPAApollo.browse.png\n",
      "https://data.planmap.eu/pub/moon/PM-MOO-C-SPAApollo\n",
      "PM-MOO-MS-Copernicus\n",
      "https://data.planmap.eu/pub/moon/PM-MOO-MS-Copernicus/document/PM-MOO-MS-Copernicus.browse.png\n",
      "https://data.planmap.eu/pub/moon/PM-MOO-MS-Copernicus\n",
      "PM-MOO-MS-SPAApollo\n",
      "https://data.planmap.eu/pub/moon/PM-MOO-MS-SPAApollo/document/PM-MOO-MS-SPAApollo.browse.png\n",
      "https://data.planmap.eu/pub/moon/PM-MOO-MS-SPAApollo\n"
     ]
    }
   ],
   "source": [
    "for map in body.maps:\n",
    "    print(map.name)\n",
    "    print(map.thumb_url)\n",
    "    print(map.url)"
   ]
  },
  {
   "cell_type": "code",
   "execution_count": 75,
   "metadata": {},
   "outputs": [
    {
     "name": "stdout",
     "output_type": "stream",
     "text": [
      "<html><body><div class=\"foo\"><span class=\"bar\">Hello World</span></div></body></html>"
     ]
    }
   ],
   "source": [
    "import sys\n",
    "\n",
    "\n",
    "html = ET.Element('html')\n",
    "body = ET.Element('body')\n",
    "html.append(body)\n",
    "div = ET.Element('div', attrib={'class': 'foo'})\n",
    "body.append(div)\n",
    "span = ET.Element('span', attrib={'class': 'bar'})\n",
    "div.append(span)\n",
    "span.text = \"Hello World\"\n",
    "\n",
    "\n",
    "# python 3\n",
    "ET.ElementTree(html).write(sys.stdout, encoding='unicode',\n",
    "                             method='html')"
   ]
  },
  {
   "cell_type": "code",
   "execution_count": null,
   "metadata": {},
   "outputs": [],
   "source": []
  }
 ],
 "metadata": {
  "jupytext": {
   "cell_metadata_filter": "all",
   "notebook_metadata_filter": "all,-language_info",
   "text_representation": {
    "extension": ".py",
    "format_name": "percent",
    "format_version": "1.3",
    "jupytext_version": "1.4.2"
   }
  },
  "kernelspec": {
   "display_name": "Python 3",
   "language": "python",
   "name": "python3"
  },
  "language_info": {
   "codemirror_mode": {
    "name": "ipython",
    "version": 3
   },
   "file_extension": ".py",
   "mimetype": "text/x-python",
   "name": "python",
   "nbconvert_exporter": "python",
   "pygments_lexer": "ipython3",
   "version": "3.8.2"
  }
 },
 "nbformat": 4,
 "nbformat_minor": 4
}

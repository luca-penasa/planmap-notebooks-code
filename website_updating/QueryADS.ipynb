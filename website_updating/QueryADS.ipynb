{
 "cells": [
  {
   "cell_type": "code",
   "execution_count": 70,
   "metadata": {},
   "outputs": [],
   "source": [
    "t = \"New geological maps of the Apollo landing sites\""
   ]
  },
  {
   "cell_type": "code",
   "execution_count": 71,
   "metadata": {},
   "outputs": [
    {
     "name": "stdout",
     "output_type": "stream",
     "text": [
      "['New Geological Maps of the Apollo Landing Sites: Tools for Advancing Lunar Science and Exploration']\n"
     ]
    }
   ],
   "source": [
    "papers = ads.SearchQuery(q=t, sort=\"score\")\n",
    "for paper in papers:\n",
    "    print(paper.title)"
   ]
  },
  {
   "cell_type": "code",
   "execution_count": 72,
   "metadata": {},
   "outputs": [],
   "source": [
    "# t"
   ]
  },
  {
   "cell_type": "code",
   "execution_count": 73,
   "metadata": {},
   "outputs": [],
   "source": [
    "\n",
    "file = \"pubs.xlsx\"\n",
    "import pandas\n",
    "tab =  pandas.read_excel(file)\n"
   ]
  },
  {
   "cell_type": "code",
   "execution_count": 74,
   "metadata": {},
   "outputs": [],
   "source": [
    "key = \"TcfmOqgVcBknCQyaRLfAy3KBluJAGgx7dEvVnUgN\"\n",
    "\n",
    "import ads\n",
    "\n",
    "\n",
    "\n",
    "ads.config.token = key"
   ]
  },
  {
   "cell_type": "code",
   "execution_count": null,
   "metadata": {},
   "outputs": [],
   "source": []
  },
  {
   "cell_type": "code",
   "execution_count": 75,
   "metadata": {},
   "outputs": [],
   "source": [
    "from fuzzywuzzy import fuzz\n",
    "threshold = 85"
   ]
  },
  {
   "cell_type": "code",
   "execution_count": 76,
   "metadata": {},
   "outputs": [
    {
     "name": "stdout",
     "output_type": "stream",
     "text": [
      "query PLANMAP data packaging: lessons learned towards FAIR planetary geologic maps --> PLANMAP data packaging: lessons learned towards FAIR planetary geologic maps\n",
      "   // similarity 97\n",
      "query Geological mapping of an interesting lunar site: Tsiolkovskiy crater --> Geological mapping of an interesting lunar site: Tsiolkovskiy crater\n",
      "   // similarity 97\n",
      "query A new geological map of the lunar South Pole-Aitken basin region --> A New Geological Map of the Lunar South Pole-Aitken Basin Region\n",
      "   // similarity 88\n",
      "query Geological mapping of the Apollo landing sites for scientific investigations --> Geological Mapping of the Apollo Landing Sites for Scientific Investigations\n",
      "   // similarity 91\n",
      "query Geologic Map of the Hokusai Quadrangle (H05) of Mercury --> Geologic Map of the Hokusai Quadrangle (H05) of Mercury\n",
      "   // similarity 96\n",
      "query Geologic Mapping of Mawrth Vallis, Mars --> Geologic Mapping of Mawrth Vallis, Mars\n",
      "   // similarity 95\n",
      "query Geological Mapping of the Neruda Quadrangle (H13) of Mercury --> Geological Mapping of the Neruda Quadrangle (H13) of Mercury\n",
      "   // similarity 97\n",
      "query European Co-ordinated Quadrangle Mapping of Mercury --> European Co-Ordinated Quadrangle Mapping of Mercury\n",
      "   // similarity 94\n",
      "query Using 3D reconstruction of centimeter-scale sedimentary structures to document changes in the depositional settings of Glen Torridon region (Gale crater, Mars) --> Using 3D reconstructions of centimeter-scale sedimentary structures to document changes in the depositional settings of Glen Torridon region (Gale crater, Mars)\n",
      "   // similarity 98\n",
      "query Spectral and morpho-stratigraphic units integration on Apollo basin and Leibnitz/Von Karman craters on the Moon --> Spectral and morpho-stratigraphic units integration on Apollo basin and Leibnitz/Von Karman craters on the Moon\n",
      "   // similarity 98\n",
      "query Kuiper Quadrangle spectral analysis: looking forward to integrated geological map --> Kuiper Quadrangle spectral analysis: looking forward to integrated geological map\n",
      "   // similarity 98\n",
      "query Sites of geological interest in Kuiper quadrangle (H06) --> Sites of geological interest in Kuiper quadrangle (H06)\n",
      "   // similarity 96\n",
      "query The lunar South Pole-Aitken basin region: A new geological map --> The Lunar South Pole-Aitken Basin Region: A New Geological Map\n",
      "   // similarity 88\n",
      "query Detailed geological studies and absolute model ages of the Apollo 15 landing site --> Detailed Geological Studies and Absolute Model Ages of the Apollo 15 Landing Site\n",
      "   // similarity 89\n",
      "query 3D geomodel of the deformed deposits in Crommelin Crater (Mars) --> 3D geomodel of the deformed deposits in Crommelin Crater (Mars)\n",
      "   // similarity 97\n",
      "query Constructing and deconstructing geological maps: a QGIS plugin for creating topologically consistent geological cartography --> Constructing and deconstructing geological maps: a QGIS plugin for creating topologically consistent geological cartography\n",
      "   // similarity 98\n",
      "query The art of exploring --> The art of exploring\n",
      "   // similarity 91\n",
      "query Landing site characterization for Tsiolkovskiy crater --> Landing site characterization for Tsiolkovskiy crater\n",
      "   // similarity 96\n",
      "query On the asymmetry of Nathair Facula --> On the asymmetry of Nathair Facula\n",
      "   // similarity 94\n",
      "query Geological mapping of Mawrth Vallis, Mars, by PLANMAP --> Geological mapping of Mawrth Vallis, Mars, by PLANMAP\n",
      "   // similarity 96\n",
      "query Investigating the Neruda-Paramour thrust system, Mercury --> Investigating the Neruda-Paramour thrust system, Mercury\n",
      "   // similarity 97\n",
      "query Using Virtual Reality tools to characterize and measure sedimentary series in Gale crater: a case study --> Using Virtual Reality Tools to Characterize and Measure Sedimentary Series in Gale Crater: A Case Study\n",
      "   // similarity 90\n",
      "query Absolute model ages for geological units in Schrödinger basin: Context for the 2024 PRISM CLPS mission --> Absolute Model Ages for Geological Units in Schrödinger Basin: Context for the 2024 PRISM CLPS Mission\n",
      "   // similarity 92\n",
      "query Investigating a potential source of young ages at Apollo 15 landing site --> Investigating a Potential Source of Young Ages at Apollo 15 Landing Site\n",
      "   // similarity 89\n",
      "query Kuiper quadrangle (H06) geological map: integration between morphological and spectral characteristics --> Kuiper Quadrangle (H06) Geological Map: Integration Between Morphological and Spectral Characteristics\n",
      "   // similarity 90\n",
      "query Spectral units identification in the H05-Hokusai quadrangle on Mercury --> Spectral Units Identification in the H05-Hokusai Quadrangle on Mercury\n",
      "   // similarity 93\n"
     ]
    }
   ],
   "source": [
    "got = []\n",
    "miss = []\n",
    "for t in tab.Title:\n",
    "    papers = ads.SearchQuery(q = t, sort=\"score\")\n",
    "    papers = list(papers)\n",
    "#     for p in papers:\n",
    "#         print(p.title)\n",
    "    if len(papers) >=1 :\n",
    "        first = papers[0]\n",
    "        \n",
    "        similarity = fuzz.ratio(t,first.title)\n",
    "        if similarity < threshold:\n",
    "            miss.append(t)\n",
    "            continue\n",
    "        else:\n",
    "            got.append([t, first, similarity])\n",
    "            print(f\"query {t} --> {first.title[0]}\")\n",
    "            print(f\"   // similarity {similarity}\")\n",
    "    else:\n",
    "        miss.append(t)"
   ]
  },
  {
   "cell_type": "code",
   "execution_count": 77,
   "metadata": {},
   "outputs": [],
   "source": [
    "codes = [a.bibcode for q, a, sim in got]\n",
    "got_titles = [q for q, a, sim in got]"
   ]
  },
  {
   "cell_type": "code",
   "execution_count": 78,
   "metadata": {},
   "outputs": [],
   "source": [
    "eq = ads.ExportQuery(codes)"
   ]
  },
  {
   "cell_type": "code",
   "execution_count": 79,
   "metadata": {},
   "outputs": [],
   "source": [
    "bibs = eq.execute()"
   ]
  },
  {
   "cell_type": "code",
   "execution_count": 80,
   "metadata": {},
   "outputs": [],
   "source": [
    "with open(\"got.bib\", \"w\") as f:\n",
    "    f.write(bibs)"
   ]
  },
  {
   "cell_type": "code",
   "execution_count": 81,
   "metadata": {},
   "outputs": [],
   "source": [
    "missed = tab.query(\"Title in @miss\")\n",
    "missed.to_excel(\"missed.xlsx\")"
   ]
  },
  {
   "cell_type": "code",
   "execution_count": null,
   "metadata": {},
   "outputs": [],
   "source": []
  },
  {
   "cell_type": "code",
   "execution_count": 82,
   "metadata": {},
   "outputs": [],
   "source": [
    "missed = tab.query(\"Title in @got_titles\")\n",
    "missed.to_excel(\"matched.xlsx\")"
   ]
  },
  {
   "cell_type": "code",
   "execution_count": null,
   "metadata": {},
   "outputs": [],
   "source": []
  },
  {
   "cell_type": "code",
   "execution_count": null,
   "metadata": {},
   "outputs": [],
   "source": []
  }
 ],
 "metadata": {
  "kernelspec": {
   "display_name": "Python 3",
   "language": "python",
   "name": "python3"
  },
  "language_info": {
   "codemirror_mode": {
    "name": "ipython",
    "version": 3
   },
   "file_extension": ".py",
   "mimetype": "text/x-python",
   "name": "python",
   "nbconvert_exporter": "python",
   "pygments_lexer": "ipython3",
   "version": "3.9.2"
  }
 },
 "nbformat": 4,
 "nbformat_minor": 4
}
